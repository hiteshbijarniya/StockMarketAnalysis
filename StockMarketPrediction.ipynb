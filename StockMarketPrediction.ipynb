{
 "cells": [
  {
   "cell_type": "markdown",
   "metadata": {},
   "source": [
    "Name: Hitesh Kumar\n",
    "\n",
    "Task7\n",
    "\n",
    "Stock Market Prediction using numerical and sentiment analysis\n",
    "\n",
    "Importing Libraries"
   ]
  },
  {
   "cell_type": "code",
   "execution_count": 5,
   "metadata": {
    "colab": {
     "base_uri": "https://localhost:8080/"
    },
    "id": "1YoQpk1nJtKU",
    "outputId": "ba492f3e-dfd1-4de0-f7c8-61cd7c568074"
   },
   "outputs": [
    {
     "name": "stdout",
     "output_type": "stream",
     "text": [
      "Requirement already satisfied: textblob in c:\\users\\hp\\anaconda3\\lib\\site-packages (0.17.1)\n",
      "Requirement already satisfied: nltk>=3.1 in c:\\users\\hp\\anaconda3\\lib\\site-packages (from textblob) (3.6.5)\n",
      "Requirement already satisfied: click in c:\\users\\hp\\anaconda3\\lib\\site-packages (from nltk>=3.1->textblob) (8.0.3)\n",
      "Requirement already satisfied: joblib in c:\\users\\hp\\anaconda3\\lib\\site-packages (from nltk>=3.1->textblob) (1.1.0)\n",
      "Requirement already satisfied: regex>=2021.8.3 in c:\\users\\hp\\anaconda3\\lib\\site-packages (from nltk>=3.1->textblob) (2021.8.3)\n",
      "Requirement already satisfied: tqdm in c:\\users\\hp\\anaconda3\\lib\\site-packages (from nltk>=3.1->textblob) (4.62.3)\n",
      "Requirement already satisfied: colorama in c:\\users\\hp\\anaconda3\\lib\\site-packages (from click->nltk>=3.1->textblob) (0.4.4)\n",
      "showing info https://raw.githubusercontent.com/nltk/nltk_data/gh-pages/index.xml\n",
      "Libraries are Imported\n"
     ]
    }
   ],
   "source": [
    "import pandas as pd\n",
    "import numpy as np\n",
    "import seaborn as sns\n",
    "import matplotlib.pyplot as plt\n",
    "#Importing Machine Learning Libraries\n",
    "from sklearn.model_selection import train_test_split\n",
    "from sklearn.feature_extraction.text import CountVectorizer\n",
    "from sklearn.tree import DecisionTreeClassifier\n",
    "from sklearn.ensemble import RandomForestClassifier\n",
    "from sklearn.model_selection import GridSearchCV\n",
    "from sklearn.preprocessing import StandardScaler\n",
    "from sklearn import metrics\n",
    "#Importing Text Analysing Libraries\n",
    "!pip install textblob\n",
    "from textblob import TextBlob\n",
    "from nltk.tokenize import sent_tokenize, word_tokenize\n",
    "from nltk.stem import PorterStemmer\n",
    "from nltk.corpus import stopwords\n",
    "import nltk\n",
    "nltk.download()\n",
    "from nltk.sentiment.vader import SentimentIntensityAnalyzer as vader\n",
    "print(\"Libraries are Imported\")"
   ]
  },
  {
   "cell_type": "code",
   "execution_count": 6,
   "metadata": {
    "colab": {
     "base_uri": "https://localhost:8080/",
     "height": 195
    },
    "id": "gWzZcB5cKJrU",
    "outputId": "c03dbdac-db0f-41c9-c377-ef9851eb0261"
   },
   "outputs": [
    {
     "data": {
      "text/html": [
       "<div>\n",
       "<style scoped>\n",
       "    .dataframe tbody tr th:only-of-type {\n",
       "        vertical-align: middle;\n",
       "    }\n",
       "\n",
       "    .dataframe tbody tr th {\n",
       "        vertical-align: top;\n",
       "    }\n",
       "\n",
       "    .dataframe thead th {\n",
       "        text-align: right;\n",
       "    }\n",
       "</style>\n",
       "<table border=\"1\" class=\"dataframe\">\n",
       "  <thead>\n",
       "    <tr style=\"text-align: right;\">\n",
       "      <th></th>\n",
       "      <th>Date</th>\n",
       "      <th>Open</th>\n",
       "      <th>High</th>\n",
       "      <th>Low</th>\n",
       "      <th>Close</th>\n",
       "      <th>Adj Close</th>\n",
       "      <th>Volume</th>\n",
       "    </tr>\n",
       "  </thead>\n",
       "  <tbody>\n",
       "    <tr>\n",
       "      <th>0</th>\n",
       "      <td>1997-07-01</td>\n",
       "      <td>4263.109863</td>\n",
       "      <td>4301.770020</td>\n",
       "      <td>4247.660156</td>\n",
       "      <td>4300.859863</td>\n",
       "      <td>4300.859863</td>\n",
       "      <td>0.0</td>\n",
       "    </tr>\n",
       "    <tr>\n",
       "      <th>1</th>\n",
       "      <td>1997-07-02</td>\n",
       "      <td>4302.959961</td>\n",
       "      <td>4395.310059</td>\n",
       "      <td>4295.399902</td>\n",
       "      <td>4333.899902</td>\n",
       "      <td>4333.899902</td>\n",
       "      <td>0.0</td>\n",
       "    </tr>\n",
       "    <tr>\n",
       "      <th>2</th>\n",
       "      <td>1997-07-03</td>\n",
       "      <td>4335.790039</td>\n",
       "      <td>4393.290039</td>\n",
       "      <td>4299.970215</td>\n",
       "      <td>4323.459961</td>\n",
       "      <td>4323.459961</td>\n",
       "      <td>0.0</td>\n",
       "    </tr>\n",
       "    <tr>\n",
       "      <th>3</th>\n",
       "      <td>1997-07-04</td>\n",
       "      <td>4332.700195</td>\n",
       "      <td>4347.589844</td>\n",
       "      <td>4300.580078</td>\n",
       "      <td>4323.819824</td>\n",
       "      <td>4323.819824</td>\n",
       "      <td>0.0</td>\n",
       "    </tr>\n",
       "    <tr>\n",
       "      <th>4</th>\n",
       "      <td>1997-07-07</td>\n",
       "      <td>4326.810059</td>\n",
       "      <td>4391.009766</td>\n",
       "      <td>4289.490234</td>\n",
       "      <td>4291.450195</td>\n",
       "      <td>4291.450195</td>\n",
       "      <td>0.0</td>\n",
       "    </tr>\n",
       "  </tbody>\n",
       "</table>\n",
       "</div>"
      ],
      "text/plain": [
       "         Date         Open         High          Low        Close  \\\n",
       "0  1997-07-01  4263.109863  4301.770020  4247.660156  4300.859863   \n",
       "1  1997-07-02  4302.959961  4395.310059  4295.399902  4333.899902   \n",
       "2  1997-07-03  4335.790039  4393.290039  4299.970215  4323.459961   \n",
       "3  1997-07-04  4332.700195  4347.589844  4300.580078  4323.819824   \n",
       "4  1997-07-07  4326.810059  4391.009766  4289.490234  4291.450195   \n",
       "\n",
       "     Adj Close  Volume  \n",
       "0  4300.859863     0.0  \n",
       "1  4333.899902     0.0  \n",
       "2  4323.459961     0.0  \n",
       "3  4323.819824     0.0  \n",
       "4  4291.450195     0.0  "
      ]
     },
     "execution_count": 6,
     "metadata": {},
     "output_type": "execute_result"
    }
   ],
   "source": [
    "data = pd.read_csv('https://query1.finance.yahoo.com/v7/finance/download/%5EBSESN?period1=867715200&period2=1609891200&interval=1d&events=history&includeAdjustedClose=true')\n",
    "data.head()"
   ]
  },
  {
   "cell_type": "code",
   "execution_count": 7,
   "metadata": {
    "colab": {
     "base_uri": "https://localhost:8080/",
     "height": 195
    },
    "id": "TiZdMaI7KNkC",
    "outputId": "a395b69a-dda6-416e-d801-45489b2ccd6d"
   },
   "outputs": [
    {
     "data": {
      "text/html": [
       "<div>\n",
       "<style scoped>\n",
       "    .dataframe tbody tr th:only-of-type {\n",
       "        vertical-align: middle;\n",
       "    }\n",
       "\n",
       "    .dataframe tbody tr th {\n",
       "        vertical-align: top;\n",
       "    }\n",
       "\n",
       "    .dataframe thead th {\n",
       "        text-align: right;\n",
       "    }\n",
       "</style>\n",
       "<table border=\"1\" class=\"dataframe\">\n",
       "  <thead>\n",
       "    <tr style=\"text-align: right;\">\n",
       "      <th></th>\n",
       "      <th>Date</th>\n",
       "      <th>Open</th>\n",
       "      <th>High</th>\n",
       "      <th>Low</th>\n",
       "      <th>Close</th>\n",
       "      <th>Adj Close</th>\n",
       "      <th>Volume</th>\n",
       "    </tr>\n",
       "  </thead>\n",
       "  <tbody>\n",
       "    <tr>\n",
       "      <th>5911</th>\n",
       "      <td>2020-12-30</td>\n",
       "      <td>47789.031250</td>\n",
       "      <td>47807.851563</td>\n",
       "      <td>47358.359375</td>\n",
       "      <td>47746.218750</td>\n",
       "      <td>47746.218750</td>\n",
       "      <td>15600.0</td>\n",
       "    </tr>\n",
       "    <tr>\n",
       "      <th>5912</th>\n",
       "      <td>2020-12-31</td>\n",
       "      <td>47753.109375</td>\n",
       "      <td>47896.968750</td>\n",
       "      <td>47602.121094</td>\n",
       "      <td>47751.328125</td>\n",
       "      <td>47751.328125</td>\n",
       "      <td>13900.0</td>\n",
       "    </tr>\n",
       "    <tr>\n",
       "      <th>5913</th>\n",
       "      <td>2021-01-01</td>\n",
       "      <td>NaN</td>\n",
       "      <td>NaN</td>\n",
       "      <td>NaN</td>\n",
       "      <td>NaN</td>\n",
       "      <td>NaN</td>\n",
       "      <td>NaN</td>\n",
       "    </tr>\n",
       "    <tr>\n",
       "      <th>5914</th>\n",
       "      <td>2021-01-04</td>\n",
       "      <td>48109.171875</td>\n",
       "      <td>48220.468750</td>\n",
       "      <td>47594.468750</td>\n",
       "      <td>48176.800781</td>\n",
       "      <td>48176.800781</td>\n",
       "      <td>13900.0</td>\n",
       "    </tr>\n",
       "    <tr>\n",
       "      <th>5915</th>\n",
       "      <td>2021-01-05</td>\n",
       "      <td>48037.628906</td>\n",
       "      <td>48486.238281</td>\n",
       "      <td>47903.378906</td>\n",
       "      <td>48437.781250</td>\n",
       "      <td>48437.781250</td>\n",
       "      <td>12200.0</td>\n",
       "    </tr>\n",
       "  </tbody>\n",
       "</table>\n",
       "</div>"
      ],
      "text/plain": [
       "            Date          Open          High           Low         Close  \\\n",
       "5911  2020-12-30  47789.031250  47807.851563  47358.359375  47746.218750   \n",
       "5912  2020-12-31  47753.109375  47896.968750  47602.121094  47751.328125   \n",
       "5913  2021-01-01           NaN           NaN           NaN           NaN   \n",
       "5914  2021-01-04  48109.171875  48220.468750  47594.468750  48176.800781   \n",
       "5915  2021-01-05  48037.628906  48486.238281  47903.378906  48437.781250   \n",
       "\n",
       "         Adj Close   Volume  \n",
       "5911  47746.218750  15600.0  \n",
       "5912  47751.328125  13900.0  \n",
       "5913           NaN      NaN  \n",
       "5914  48176.800781  13900.0  \n",
       "5915  48437.781250  12200.0  "
      ]
     },
     "execution_count": 7,
     "metadata": {},
     "output_type": "execute_result"
    }
   ],
   "source": [
    "data.tail()"
   ]
  },
  {
   "cell_type": "code",
   "execution_count": 8,
   "metadata": {
    "colab": {
     "base_uri": "https://localhost:8080/"
    },
    "id": "k_L2uwqLKfB6",
    "outputId": "5d955b06-331b-446a-d4a7-b802f2bdd3ad"
   },
   "outputs": [
    {
     "name": "stdout",
     "output_type": "stream",
     "text": [
      "Dimension:(5916, 7) \n",
      "\n",
      "Size:41412 \n",
      "\n",
      "Duplicated Values:0 \n",
      "\n",
      "Rows with null values:Date           0\n",
      "Open         125\n",
      "High         125\n",
      "Low          125\n",
      "Close        125\n",
      "Adj Close    125\n",
      "Volume       125\n",
      "dtype: int64 \n",
      "\n",
      "<class 'pandas.core.frame.DataFrame'>\n",
      "RangeIndex: 5916 entries, 0 to 5915\n",
      "Data columns (total 7 columns):\n",
      " #   Column     Non-Null Count  Dtype  \n",
      "---  ------     --------------  -----  \n",
      " 0   Date       5916 non-null   object \n",
      " 1   Open       5791 non-null   float64\n",
      " 2   High       5791 non-null   float64\n",
      " 3   Low        5791 non-null   float64\n",
      " 4   Close      5791 non-null   float64\n",
      " 5   Adj Close  5791 non-null   float64\n",
      " 6   Volume     5791 non-null   float64\n",
      "dtypes: float64(6), object(1)\n",
      "memory usage: 323.7+ KB\n",
      "Info of Dataset:None \n",
      "\n",
      "Descriptive Analysis:               Open          High           Low         Close     Adj Close  \\\n",
      "count   5791.000000   5791.000000   5791.000000   5791.000000   5791.000000   \n",
      "mean   16456.876816  16558.453431  16322.745203  16438.176200  16438.176200   \n",
      "std    11636.784021  11681.065352  11564.118152  11621.397528  11621.397528   \n",
      "min     2621.889893   2682.590088   2594.870117   2600.120117   2600.120117   \n",
      "25%     4794.065185   4843.530029   4733.175048   4772.439941   4772.439941   \n",
      "50%    15995.139648  16202.870117  15822.320313  16015.559570  16015.559570   \n",
      "75%    25879.900390  25977.064453  25658.445312  25838.425782  25838.425782   \n",
      "max    48109.171875  48486.238281  47903.378906  48437.781250  48437.781250   \n",
      "\n",
      "             Volume  \n",
      "count  5.791000e+03  \n",
      "mean   6.821442e+04  \n",
      "std    9.839325e+05  \n",
      "min    0.000000e+00  \n",
      "25%    0.000000e+00  \n",
      "50%    1.210000e+04  \n",
      "75%    1.905000e+04  \n",
      "max    3.181510e+07   \n",
      "\n"
     ]
    }
   ],
   "source": [
    "print(\"Dimension:{}\".format(data.shape),\"\\n\")\n",
    "print(\"Size:{}\".format(data.size),\"\\n\")\n",
    "print(\"Duplicated Values:{}\".format(data.duplicated().sum()),\"\\n\")\n",
    "print(\"Rows with null values:{}\".format(data.isnull().sum()),\"\\n\")\n",
    "print(\"Info of Dataset:{}\".format(data.info()),\"\\n\")\n",
    "print(\"Descriptive Analysis:{}\".format(data.describe()),\"\\n\")"
   ]
  },
  {
   "cell_type": "code",
   "execution_count": 9,
   "metadata": {
    "colab": {
     "base_uri": "https://localhost:8080/",
     "height": 195
    },
    "id": "pRSKQQe8Kkgv",
    "outputId": "37b07095-8be8-4eb1-b1d5-81fb1d222307"
   },
   "outputs": [
    {
     "data": {
      "text/html": [
       "<div>\n",
       "<style scoped>\n",
       "    .dataframe tbody tr th:only-of-type {\n",
       "        vertical-align: middle;\n",
       "    }\n",
       "\n",
       "    .dataframe tbody tr th {\n",
       "        vertical-align: top;\n",
       "    }\n",
       "\n",
       "    .dataframe thead th {\n",
       "        text-align: right;\n",
       "    }\n",
       "</style>\n",
       "<table border=\"1\" class=\"dataframe\">\n",
       "  <thead>\n",
       "    <tr style=\"text-align: right;\">\n",
       "      <th></th>\n",
       "      <th>Date</th>\n",
       "      <th>Open</th>\n",
       "      <th>High</th>\n",
       "      <th>Low</th>\n",
       "      <th>Close</th>\n",
       "      <th>Adj Close</th>\n",
       "      <th>Volume</th>\n",
       "    </tr>\n",
       "  </thead>\n",
       "  <tbody>\n",
       "    <tr>\n",
       "      <th>5911</th>\n",
       "      <td>2020-12-30</td>\n",
       "      <td>47789.031250</td>\n",
       "      <td>47807.851563</td>\n",
       "      <td>47358.359375</td>\n",
       "      <td>47746.218750</td>\n",
       "      <td>47746.218750</td>\n",
       "      <td>15600.0</td>\n",
       "    </tr>\n",
       "    <tr>\n",
       "      <th>5912</th>\n",
       "      <td>2020-12-31</td>\n",
       "      <td>47753.109375</td>\n",
       "      <td>47896.968750</td>\n",
       "      <td>47602.121094</td>\n",
       "      <td>47751.328125</td>\n",
       "      <td>47751.328125</td>\n",
       "      <td>13900.0</td>\n",
       "    </tr>\n",
       "    <tr>\n",
       "      <th>5913</th>\n",
       "      <td>2021-01-01</td>\n",
       "      <td>NaN</td>\n",
       "      <td>NaN</td>\n",
       "      <td>NaN</td>\n",
       "      <td>NaN</td>\n",
       "      <td>NaN</td>\n",
       "      <td>NaN</td>\n",
       "    </tr>\n",
       "    <tr>\n",
       "      <th>5914</th>\n",
       "      <td>2021-01-04</td>\n",
       "      <td>48109.171875</td>\n",
       "      <td>48220.468750</td>\n",
       "      <td>47594.468750</td>\n",
       "      <td>48176.800781</td>\n",
       "      <td>48176.800781</td>\n",
       "      <td>13900.0</td>\n",
       "    </tr>\n",
       "    <tr>\n",
       "      <th>5915</th>\n",
       "      <td>2021-01-05</td>\n",
       "      <td>48037.628906</td>\n",
       "      <td>48486.238281</td>\n",
       "      <td>47903.378906</td>\n",
       "      <td>48437.781250</td>\n",
       "      <td>48437.781250</td>\n",
       "      <td>12200.0</td>\n",
       "    </tr>\n",
       "  </tbody>\n",
       "</table>\n",
       "</div>"
      ],
      "text/plain": [
       "            Date          Open          High           Low         Close  \\\n",
       "5911  2020-12-30  47789.031250  47807.851563  47358.359375  47746.218750   \n",
       "5912  2020-12-31  47753.109375  47896.968750  47602.121094  47751.328125   \n",
       "5913  2021-01-01           NaN           NaN           NaN           NaN   \n",
       "5914  2021-01-04  48109.171875  48220.468750  47594.468750  48176.800781   \n",
       "5915  2021-01-05  48037.628906  48486.238281  47903.378906  48437.781250   \n",
       "\n",
       "         Adj Close   Volume  \n",
       "5911  47746.218750  15600.0  \n",
       "5912  47751.328125  13900.0  \n",
       "5913           NaN      NaN  \n",
       "5914  48176.800781  13900.0  \n",
       "5915  48437.781250  12200.0  "
      ]
     },
     "execution_count": 9,
     "metadata": {},
     "output_type": "execute_result"
    }
   ],
   "source": [
    "data.dropna()\n",
    "data.tail()"
   ]
  },
  {
   "cell_type": "code",
   "execution_count": 10,
   "metadata": {
    "colab": {
     "base_uri": "https://localhost:8080/",
     "height": 621
    },
    "id": "vRHbfJQYKnyn",
    "outputId": "8cfb2da3-6e78-4a87-e5a4-e4f1f42c04b8"
   },
   "outputs": [
    {
     "data": {
      "text/plain": [
       "<AxesSubplot:>"
      ]
     },
     "execution_count": 10,
     "metadata": {},
     "output_type": "execute_result"
    },
    {
     "data": {
      "image/png": "[encoded data removed]",
      "text/plain": [
       "<Figure size 1440x720 with 1 Axes>"
      ]
     },
     "metadata": {},
     "output_type": "display_data"
    }
   ],
   "source": [
    "sns.set_theme(style='darkgrid', palette='husl',font_scale=2)\n",
    "data[['Open','High','Low','Close']].plot(figsize=(20,10))"
   ]
  },
  {
   "cell_type": "code",
   "execution_count": 11,
   "metadata": {
    "colab": {
     "base_uri": "https://localhost:8080/",
     "height": 640
    },
    "id": "KsMbD_vbLvSJ",
    "outputId": "139acf3f-df07-4b45-cbc9-0afed39dca03"
   },
   "outputs": [
    {
     "data": {
      "text/plain": [
       "<AxesSubplot:>"
      ]
     },
     "execution_count": 11,
     "metadata": {},
     "output_type": "execute_result"
    },
    {
     "data": {
      "image/png": "[encoded data removed]",
      "text/plain": [
       "<Figure size 1440x720 with 1 Axes>"
      ]
     },
     "metadata": {},
     "output_type": "display_data"
    }
   ],
   "source": [
    "data['Volume'].plot(figsize=(20,10))"
   ]
  },
  {
   "cell_type": "code",
   "execution_count": 12,
   "metadata": {
    "colab": {
     "base_uri": "https://localhost:8080/",
     "height": 195
    },
    "id": "tywT3nrNLyfo",
    "outputId": "88674e17-0e74-4fa3-8ca1-c2ef25eaaf16"
   },
   "outputs": [
    {
     "data": {
      "text/html": [
       "<div>\n",
       "<style scoped>\n",
       "    .dataframe tbody tr th:only-of-type {\n",
       "        vertical-align: middle;\n",
       "    }\n",
       "\n",
       "    .dataframe tbody tr th {\n",
       "        vertical-align: top;\n",
       "    }\n",
       "\n",
       "    .dataframe thead th {\n",
       "        text-align: right;\n",
       "    }\n",
       "</style>\n",
       "<table border=\"1\" class=\"dataframe\">\n",
       "  <thead>\n",
       "    <tr style=\"text-align: right;\">\n",
       "      <th></th>\n",
       "      <th>publish_date</th>\n",
       "      <th>headline_category</th>\n",
       "      <th>headline_text</th>\n",
       "    </tr>\n",
       "  </thead>\n",
       "  <tbody>\n",
       "    <tr>\n",
       "      <th>0</th>\n",
       "      <td>20010102</td>\n",
       "      <td>unknown</td>\n",
       "      <td>Status quo will not be disturbed at Ayodhya; s...</td>\n",
       "    </tr>\n",
       "    <tr>\n",
       "      <th>1</th>\n",
       "      <td>20010102</td>\n",
       "      <td>unknown</td>\n",
       "      <td>Fissures in Hurriyat over Pak visit</td>\n",
       "    </tr>\n",
       "    <tr>\n",
       "      <th>2</th>\n",
       "      <td>20010102</td>\n",
       "      <td>unknown</td>\n",
       "      <td>America's unwanted heading for India?</td>\n",
       "    </tr>\n",
       "    <tr>\n",
       "      <th>3</th>\n",
       "      <td>20010102</td>\n",
       "      <td>unknown</td>\n",
       "      <td>For bigwigs; it is destination Goa</td>\n",
       "    </tr>\n",
       "    <tr>\n",
       "      <th>4</th>\n",
       "      <td>20010102</td>\n",
       "      <td>unknown</td>\n",
       "      <td>Extra buses to clear tourist traffic</td>\n",
       "    </tr>\n",
       "  </tbody>\n",
       "</table>\n",
       "</div>"
      ],
      "text/plain": [
       "   publish_date headline_category  \\\n",
       "0      20010102           unknown   \n",
       "1      20010102           unknown   \n",
       "2      20010102           unknown   \n",
       "3      20010102           unknown   \n",
       "4      20010102           unknown   \n",
       "\n",
       "                                       headline_text  \n",
       "0  Status quo will not be disturbed at Ayodhya; s...  \n",
       "1                Fissures in Hurriyat over Pak visit  \n",
       "2              America's unwanted heading for India?  \n",
       "3                 For bigwigs; it is destination Goa  \n",
       "4               Extra buses to clear tourist traffic  "
      ]
     },
     "execution_count": 12,
     "metadata": {},
     "output_type": "execute_result"
    }
   ],
   "source": [
    "data_news = pd.read_csv(r'C:\\Users\\hp\\OneDrive\\Desktop\\spark\\india-news-headlines.csv')\n",
    "data_news.head()"
   ]
  },
  {
   "cell_type": "code",
   "execution_count": 13,
   "metadata": {
    "colab": {
     "base_uri": "https://localhost:8080/"
    },
    "id": "yQGJDByIL13M",
    "outputId": "6bb51ad4-f372-4698-ed6b-3508fe2c0ce3"
   },
   "outputs": [
    {
     "data": {
      "text/plain": [
       "Index(['publish_date', 'headline_category', 'headline_text'], dtype='object')"
      ]
     },
     "execution_count": 13,
     "metadata": {},
     "output_type": "execute_result"
    }
   ],
   "source": [
    "data_news.columns"
   ]
  },
  {
   "cell_type": "code",
   "execution_count": 14,
   "metadata": {
    "id": "cea0szxQMTlo"
   },
   "outputs": [],
   "source": [
    "data_news = data_news.rename(columns={'publish_date':'Date'})"
   ]
  },
  {
   "cell_type": "code",
   "execution_count": 15,
   "metadata": {
    "colab": {
     "base_uri": "https://localhost:8080/",
     "height": 195
    },
    "id": "hnWMbu89MW1T",
    "outputId": "25bc3eee-7d8f-49b6-faa6-2a9a3cc144d3"
   },
   "outputs": [
    {
     "data": {
      "text/html": [
       "<div>\n",
       "<style scoped>\n",
       "    .dataframe tbody tr th:only-of-type {\n",
       "        vertical-align: middle;\n",
       "    }\n",
       "\n",
       "    .dataframe tbody tr th {\n",
       "        vertical-align: top;\n",
       "    }\n",
       "\n",
       "    .dataframe thead th {\n",
       "        text-align: right;\n",
       "    }\n",
       "</style>\n",
       "<table border=\"1\" class=\"dataframe\">\n",
       "  <thead>\n",
       "    <tr style=\"text-align: right;\">\n",
       "      <th></th>\n",
       "      <th>Date</th>\n",
       "      <th>headline_category</th>\n",
       "      <th>headline_text</th>\n",
       "    </tr>\n",
       "  </thead>\n",
       "  <tbody>\n",
       "    <tr>\n",
       "      <th>0</th>\n",
       "      <td>20010102</td>\n",
       "      <td>unknown</td>\n",
       "      <td>Status quo will not be disturbed at Ayodhya; s...</td>\n",
       "    </tr>\n",
       "    <tr>\n",
       "      <th>1</th>\n",
       "      <td>20010102</td>\n",
       "      <td>unknown</td>\n",
       "      <td>Fissures in Hurriyat over Pak visit</td>\n",
       "    </tr>\n",
       "    <tr>\n",
       "      <th>2</th>\n",
       "      <td>20010102</td>\n",
       "      <td>unknown</td>\n",
       "      <td>America's unwanted heading for India?</td>\n",
       "    </tr>\n",
       "    <tr>\n",
       "      <th>3</th>\n",
       "      <td>20010102</td>\n",
       "      <td>unknown</td>\n",
       "      <td>For bigwigs; it is destination Goa</td>\n",
       "    </tr>\n",
       "    <tr>\n",
       "      <th>4</th>\n",
       "      <td>20010102</td>\n",
       "      <td>unknown</td>\n",
       "      <td>Extra buses to clear tourist traffic</td>\n",
       "    </tr>\n",
       "  </tbody>\n",
       "</table>\n",
       "</div>"
      ],
      "text/plain": [
       "       Date headline_category  \\\n",
       "0  20010102           unknown   \n",
       "1  20010102           unknown   \n",
       "2  20010102           unknown   \n",
       "3  20010102           unknown   \n",
       "4  20010102           unknown   \n",
       "\n",
       "                                       headline_text  \n",
       "0  Status quo will not be disturbed at Ayodhya; s...  \n",
       "1                Fissures in Hurriyat over Pak visit  \n",
       "2              America's unwanted heading for India?  \n",
       "3                 For bigwigs; it is destination Goa  \n",
       "4               Extra buses to clear tourist traffic  "
      ]
     },
     "execution_count": 15,
     "metadata": {},
     "output_type": "execute_result"
    }
   ],
   "source": [
    "data_news.head()"
   ]
  },
  {
   "cell_type": "code",
   "execution_count": 16,
   "metadata": {
    "colab": {
     "base_uri": "https://localhost:8080/",
     "height": 195
    },
    "id": "JkTvLHG1MaQb",
    "outputId": "6dfa6369-d31d-44a9-9fd8-874f88ecde8a"
   },
   "outputs": [
    {
     "data": {
      "text/html": [
       "<div>\n",
       "<style scoped>\n",
       "    .dataframe tbody tr th:only-of-type {\n",
       "        vertical-align: middle;\n",
       "    }\n",
       "\n",
       "    .dataframe tbody tr th {\n",
       "        vertical-align: top;\n",
       "    }\n",
       "\n",
       "    .dataframe thead th {\n",
       "        text-align: right;\n",
       "    }\n",
       "</style>\n",
       "<table border=\"1\" class=\"dataframe\">\n",
       "  <thead>\n",
       "    <tr style=\"text-align: right;\">\n",
       "      <th></th>\n",
       "      <th>Date</th>\n",
       "      <th>headline_text</th>\n",
       "    </tr>\n",
       "  </thead>\n",
       "  <tbody>\n",
       "    <tr>\n",
       "      <th>0</th>\n",
       "      <td>2001-01-02</td>\n",
       "      <td>Status quo will not be disturbed at Ayodhya; s...</td>\n",
       "    </tr>\n",
       "    <tr>\n",
       "      <th>1</th>\n",
       "      <td>2001-01-02</td>\n",
       "      <td>Fissures in Hurriyat over Pak visit</td>\n",
       "    </tr>\n",
       "    <tr>\n",
       "      <th>2</th>\n",
       "      <td>2001-01-02</td>\n",
       "      <td>America's unwanted heading for India?</td>\n",
       "    </tr>\n",
       "    <tr>\n",
       "      <th>3</th>\n",
       "      <td>2001-01-02</td>\n",
       "      <td>For bigwigs; it is destination Goa</td>\n",
       "    </tr>\n",
       "    <tr>\n",
       "      <th>4</th>\n",
       "      <td>2001-01-02</td>\n",
       "      <td>Extra buses to clear tourist traffic</td>\n",
       "    </tr>\n",
       "  </tbody>\n",
       "</table>\n",
       "</div>"
      ],
      "text/plain": [
       "        Date                                      headline_text\n",
       "0 2001-01-02  Status quo will not be disturbed at Ayodhya; s...\n",
       "1 2001-01-02                Fissures in Hurriyat over Pak visit\n",
       "2 2001-01-02              America's unwanted heading for India?\n",
       "3 2001-01-02                 For bigwigs; it is destination Goa\n",
       "4 2001-01-02               Extra buses to clear tourist traffic"
      ]
     },
     "execution_count": 16,
     "metadata": {},
     "output_type": "execute_result"
    }
   ],
   "source": [
    "data_news['Date'] = pd.to_datetime(data_news['Date'],format='%Y%m%d')\n",
    "data_news = data_news.drop(\"headline_category\",axis = 1)\n",
    "data_news.head()"
   ]
  },
  {
   "cell_type": "code",
   "execution_count": 17,
   "metadata": {
    "colab": {
     "base_uri": "https://localhost:8080/",
     "height": 402
    },
    "id": "kOvys-8tMdqE",
    "outputId": "3ce42e18-57b5-40c3-edd4-7e7261bdbec4"
   },
   "outputs": [
    {
     "data": {
      "text/html": [
       "<div>\n",
       "<style scoped>\n",
       "    .dataframe tbody tr th:only-of-type {\n",
       "        vertical-align: middle;\n",
       "    }\n",
       "\n",
       "    .dataframe tbody tr th {\n",
       "        vertical-align: top;\n",
       "    }\n",
       "\n",
       "    .dataframe thead th {\n",
       "        text-align: right;\n",
       "    }\n",
       "</style>\n",
       "<table border=\"1\" class=\"dataframe\">\n",
       "  <thead>\n",
       "    <tr style=\"text-align: right;\">\n",
       "      <th></th>\n",
       "      <th>Date</th>\n",
       "      <th>headline_text</th>\n",
       "    </tr>\n",
       "  </thead>\n",
       "  <tbody>\n",
       "    <tr>\n",
       "      <th>2242851</th>\n",
       "      <td>2015-10-19</td>\n",
       "      <td>Here's how to calm your Monday in 5 minutes!</td>\n",
       "    </tr>\n",
       "    <tr>\n",
       "      <th>2243311</th>\n",
       "      <td>2015-10-19</td>\n",
       "      <td>All accused in Dadri lynching case arrested</td>\n",
       "    </tr>\n",
       "    <tr>\n",
       "      <th>2243312</th>\n",
       "      <td>2015-10-19</td>\n",
       "      <td>LOL: Laugh off your Monday blues!</td>\n",
       "    </tr>\n",
       "    <tr>\n",
       "      <th>2243313</th>\n",
       "      <td>2015-10-19</td>\n",
       "      <td>Cops' team heads to TN in search of killers</td>\n",
       "    </tr>\n",
       "    <tr>\n",
       "      <th>2243314</th>\n",
       "      <td>2015-10-19</td>\n",
       "      <td>BAI allows 4 'overage' players to compete at n...</td>\n",
       "    </tr>\n",
       "    <tr>\n",
       "      <th>...</th>\n",
       "      <td>...</td>\n",
       "      <td>...</td>\n",
       "    </tr>\n",
       "    <tr>\n",
       "      <th>3423727</th>\n",
       "      <td>2020-12-31</td>\n",
       "      <td>No Covid casualty in 7 dists of Vidarbha; reco...</td>\n",
       "    </tr>\n",
       "    <tr>\n",
       "      <th>3423726</th>\n",
       "      <td>2020-12-31</td>\n",
       "      <td>Cops across police stns in state to soon get w...</td>\n",
       "    </tr>\n",
       "    <tr>\n",
       "      <th>3423725</th>\n",
       "      <td>2020-12-31</td>\n",
       "      <td>Cops rescue trafficked girls from Bihar</td>\n",
       "    </tr>\n",
       "    <tr>\n",
       "      <th>3423738</th>\n",
       "      <td>2020-12-31</td>\n",
       "      <td>25% of four-wheelers in Karnataka yet to get F...</td>\n",
       "    </tr>\n",
       "    <tr>\n",
       "      <th>3424066</th>\n",
       "      <td>2020-12-31</td>\n",
       "      <td>Celebs plan to party safely and responsibly on...</td>\n",
       "    </tr>\n",
       "  </tbody>\n",
       "</table>\n",
       "<p>1181216 rows × 2 columns</p>\n",
       "</div>"
      ],
      "text/plain": [
       "              Date                                      headline_text\n",
       "2242851 2015-10-19       Here's how to calm your Monday in 5 minutes!\n",
       "2243311 2015-10-19        All accused in Dadri lynching case arrested\n",
       "2243312 2015-10-19                  LOL: Laugh off your Monday blues!\n",
       "2243313 2015-10-19        Cops' team heads to TN in search of killers\n",
       "2243314 2015-10-19  BAI allows 4 'overage' players to compete at n...\n",
       "...            ...                                                ...\n",
       "3423727 2020-12-31  No Covid casualty in 7 dists of Vidarbha; reco...\n",
       "3423726 2020-12-31  Cops across police stns in state to soon get w...\n",
       "3423725 2020-12-31            Cops rescue trafficked girls from Bihar\n",
       "3423738 2020-12-31  25% of four-wheelers in Karnataka yet to get F...\n",
       "3424066 2020-12-31  Celebs plan to party safely and responsibly on...\n",
       "\n",
       "[1181216 rows x 2 columns]"
      ]
     },
     "execution_count": 17,
     "metadata": {},
     "output_type": "execute_result"
    }
   ],
   "source": [
    "data_news = data_news[data_news['Date']>=\"2015-10-19\"]\n",
    "data_news.sort_values(by='Date')"
   ]
  },
  {
   "cell_type": "code",
   "execution_count": 18,
   "metadata": {
    "colab": {
     "base_uri": "https://localhost:8080/",
     "height": 402
    },
    "id": "TNFVp9lgMgTo",
    "outputId": "6432a2db-703f-4e13-df6a-f98f335c6d79"
   },
   "outputs": [
    {
     "data": {
      "text/html": [
       "<div>\n",
       "<style scoped>\n",
       "    .dataframe tbody tr th:only-of-type {\n",
       "        vertical-align: middle;\n",
       "    }\n",
       "\n",
       "    .dataframe tbody tr th {\n",
       "        vertical-align: top;\n",
       "    }\n",
       "\n",
       "    .dataframe thead th {\n",
       "        text-align: right;\n",
       "    }\n",
       "</style>\n",
       "<table border=\"1\" class=\"dataframe\">\n",
       "  <thead>\n",
       "    <tr style=\"text-align: right;\">\n",
       "      <th></th>\n",
       "      <th>index</th>\n",
       "      <th>Date</th>\n",
       "      <th>headline_text</th>\n",
       "    </tr>\n",
       "  </thead>\n",
       "  <tbody>\n",
       "    <tr>\n",
       "      <th>0</th>\n",
       "      <td>2242851</td>\n",
       "      <td>2015-10-19</td>\n",
       "      <td>Here's how to calm your Monday in 5 minutes! I...</td>\n",
       "    </tr>\n",
       "    <tr>\n",
       "      <th>1</th>\n",
       "      <td>2243548</td>\n",
       "      <td>2015-10-20</td>\n",
       "      <td>How much water should you drink every day? Way...</td>\n",
       "    </tr>\n",
       "    <tr>\n",
       "      <th>2</th>\n",
       "      <td>2244248</td>\n",
       "      <td>2015-10-21</td>\n",
       "      <td>How to find the pleasure spots in your man Pak...</td>\n",
       "    </tr>\n",
       "    <tr>\n",
       "      <th>3</th>\n",
       "      <td>2244947</td>\n",
       "      <td>2015-10-22</td>\n",
       "      <td>Cancer: 12 foods to battle cancer Top 5 health...</td>\n",
       "    </tr>\n",
       "    <tr>\n",
       "      <th>4</th>\n",
       "      <td>2245645</td>\n",
       "      <td>2015-10-23</td>\n",
       "      <td>How to beat that bloating feeling 10 alternate...</td>\n",
       "    </tr>\n",
       "    <tr>\n",
       "      <th>...</th>\n",
       "      <td>...</td>\n",
       "      <td>...</td>\n",
       "      <td>...</td>\n",
       "    </tr>\n",
       "    <tr>\n",
       "      <th>1896</th>\n",
       "      <td>3421573</td>\n",
       "      <td>2020-12-27</td>\n",
       "      <td>#BigInterview! Dhritiman Chatterjee: Nobody da...</td>\n",
       "    </tr>\n",
       "    <tr>\n",
       "      <th>1897</th>\n",
       "      <td>3422072</td>\n",
       "      <td>2020-12-28</td>\n",
       "      <td>Horoscope Today; 28 December 2020: Check astro...</td>\n",
       "    </tr>\n",
       "    <tr>\n",
       "      <th>1898</th>\n",
       "      <td>3422570</td>\n",
       "      <td>2020-12-29</td>\n",
       "      <td>Man recovers charred remains of 'thief' from h...</td>\n",
       "    </tr>\n",
       "    <tr>\n",
       "      <th>1899</th>\n",
       "      <td>3423069</td>\n",
       "      <td>2020-12-30</td>\n",
       "      <td>Numerology Readings 30 December 2020: Predicti...</td>\n",
       "    </tr>\n",
       "    <tr>\n",
       "      <th>1900</th>\n",
       "      <td>3423569</td>\n",
       "      <td>2020-12-31</td>\n",
       "      <td>Horoscope Today; 31 December 2020: Check astro...</td>\n",
       "    </tr>\n",
       "  </tbody>\n",
       "</table>\n",
       "<p>1901 rows × 3 columns</p>\n",
       "</div>"
      ],
      "text/plain": [
       "        index       Date                                      headline_text\n",
       "0     2242851 2015-10-19  Here's how to calm your Monday in 5 minutes! I...\n",
       "1     2243548 2015-10-20  How much water should you drink every day? Way...\n",
       "2     2244248 2015-10-21  How to find the pleasure spots in your man Pak...\n",
       "3     2244947 2015-10-22  Cancer: 12 foods to battle cancer Top 5 health...\n",
       "4     2245645 2015-10-23  How to beat that bloating feeling 10 alternate...\n",
       "...       ...        ...                                                ...\n",
       "1896  3421573 2020-12-27  #BigInterview! Dhritiman Chatterjee: Nobody da...\n",
       "1897  3422072 2020-12-28  Horoscope Today; 28 December 2020: Check astro...\n",
       "1898  3422570 2020-12-29  Man recovers charred remains of 'thief' from h...\n",
       "1899  3423069 2020-12-30  Numerology Readings 30 December 2020: Predicti...\n",
       "1900  3423569 2020-12-31  Horoscope Today; 31 December 2020: Check astro...\n",
       "\n",
       "[1901 rows x 3 columns]"
      ]
     },
     "execution_count": 18,
     "metadata": {},
     "output_type": "execute_result"
    }
   ],
   "source": [
    "data_news['headline_text'] = data_news.groupby(['Date']).transform(lambda x: ' '.join(x))\n",
    "data_news = data_news.drop_duplicates()\n",
    "data_news.reset_index()"
   ]
  },
  {
   "cell_type": "code",
   "execution_count": 19,
   "metadata": {
    "colab": {
     "base_uri": "https://localhost:8080/"
    },
    "id": "wapu-kEfMkF0",
    "outputId": "66ae2e5b-63d0-4115-b00d-52f839be11f6"
   },
   "outputs": [
    {
     "name": "stdout",
     "output_type": "stream",
     "text": [
      "Dimension:(1901, 2) \n",
      "\n",
      "Size:3802 \n",
      "\n",
      "Duplicated Values:0 \n",
      "\n",
      "Rows with null values:Date             0\n",
      "headline_text    0\n",
      "dtype: int64 \n",
      "\n",
      "<class 'pandas.core.frame.DataFrame'>\n",
      "Int64Index: 1901 entries, 2242851 to 3423569\n",
      "Data columns (total 2 columns):\n",
      " #   Column         Non-Null Count  Dtype         \n",
      "---  ------         --------------  -----         \n",
      " 0   Date           1901 non-null   datetime64[ns]\n",
      " 1   headline_text  1901 non-null   object        \n",
      "dtypes: datetime64[ns](1), object(1)\n",
      "memory usage: 44.6+ KB\n",
      "Info of Dataset:None \n",
      "\n"
     ]
    }
   ],
   "source": [
    "print(\"Dimension:{}\".format(data_news.shape),\"\\n\")\n",
    "print(\"Size:{}\".format(data_news.size),\"\\n\")\n",
    "print(\"Duplicated Values:{}\".format(data_news.duplicated().sum()),\"\\n\")\n",
    "print(\"Rows with null values:{}\".format(data_news.isnull().sum()),\"\\n\")\n",
    "print(\"Info of Dataset:{}\".format(data_news.info()),\"\\n\")"
   ]
  },
  {
   "cell_type": "code",
   "execution_count": 20,
   "metadata": {
    "colab": {
     "base_uri": "https://localhost:8080/",
     "height": 195
    },
    "id": "c0Hu5ZIpMmxI",
    "outputId": "621ec437-8d2c-431c-ca01-f2d99f17835c"
   },
   "outputs": [
    {
     "data": {
      "text/html": [
       "<div>\n",
       "<style scoped>\n",
       "    .dataframe tbody tr th:only-of-type {\n",
       "        vertical-align: middle;\n",
       "    }\n",
       "\n",
       "    .dataframe tbody tr th {\n",
       "        vertical-align: top;\n",
       "    }\n",
       "\n",
       "    .dataframe thead th {\n",
       "        text-align: right;\n",
       "    }\n",
       "</style>\n",
       "<table border=\"1\" class=\"dataframe\">\n",
       "  <thead>\n",
       "    <tr style=\"text-align: right;\">\n",
       "      <th></th>\n",
       "      <th>Date</th>\n",
       "      <th>Open</th>\n",
       "      <th>High</th>\n",
       "      <th>Low</th>\n",
       "      <th>Close</th>\n",
       "      <th>Adj Close</th>\n",
       "      <th>Volume</th>\n",
       "    </tr>\n",
       "  </thead>\n",
       "  <tbody>\n",
       "    <tr>\n",
       "      <th>0</th>\n",
       "      <td>1997-07-01</td>\n",
       "      <td>4263.109863</td>\n",
       "      <td>4301.770020</td>\n",
       "      <td>4247.660156</td>\n",
       "      <td>4300.859863</td>\n",
       "      <td>4300.859863</td>\n",
       "      <td>0.0</td>\n",
       "    </tr>\n",
       "    <tr>\n",
       "      <th>1</th>\n",
       "      <td>1997-07-02</td>\n",
       "      <td>4302.959961</td>\n",
       "      <td>4395.310059</td>\n",
       "      <td>4295.399902</td>\n",
       "      <td>4333.899902</td>\n",
       "      <td>4333.899902</td>\n",
       "      <td>0.0</td>\n",
       "    </tr>\n",
       "    <tr>\n",
       "      <th>2</th>\n",
       "      <td>1997-07-03</td>\n",
       "      <td>4335.790039</td>\n",
       "      <td>4393.290039</td>\n",
       "      <td>4299.970215</td>\n",
       "      <td>4323.459961</td>\n",
       "      <td>4323.459961</td>\n",
       "      <td>0.0</td>\n",
       "    </tr>\n",
       "    <tr>\n",
       "      <th>3</th>\n",
       "      <td>1997-07-04</td>\n",
       "      <td>4332.700195</td>\n",
       "      <td>4347.589844</td>\n",
       "      <td>4300.580078</td>\n",
       "      <td>4323.819824</td>\n",
       "      <td>4323.819824</td>\n",
       "      <td>0.0</td>\n",
       "    </tr>\n",
       "    <tr>\n",
       "      <th>4</th>\n",
       "      <td>1997-07-07</td>\n",
       "      <td>4326.810059</td>\n",
       "      <td>4391.009766</td>\n",
       "      <td>4289.490234</td>\n",
       "      <td>4291.450195</td>\n",
       "      <td>4291.450195</td>\n",
       "      <td>0.0</td>\n",
       "    </tr>\n",
       "  </tbody>\n",
       "</table>\n",
       "</div>"
      ],
      "text/plain": [
       "        Date         Open         High          Low        Close    Adj Close  \\\n",
       "0 1997-07-01  4263.109863  4301.770020  4247.660156  4300.859863  4300.859863   \n",
       "1 1997-07-02  4302.959961  4395.310059  4295.399902  4333.899902  4333.899902   \n",
       "2 1997-07-03  4335.790039  4393.290039  4299.970215  4323.459961  4323.459961   \n",
       "3 1997-07-04  4332.700195  4347.589844  4300.580078  4323.819824  4323.819824   \n",
       "4 1997-07-07  4326.810059  4391.009766  4289.490234  4291.450195  4291.450195   \n",
       "\n",
       "   Volume  \n",
       "0     0.0  \n",
       "1     0.0  \n",
       "2     0.0  \n",
       "3     0.0  \n",
       "4     0.0  "
      ]
     },
     "execution_count": 20,
     "metadata": {},
     "output_type": "execute_result"
    }
   ],
   "source": [
    "data = data[data['Date']<='2020-06-30']\n",
    "data['Date']=pd.to_datetime(data['Date'])\n",
    "data.head()"
   ]
  },
  {
   "cell_type": "code",
   "execution_count": 21,
   "metadata": {
    "colab": {
     "base_uri": "https://localhost:8080/",
     "height": 195
    },
    "id": "gjp854P7MqWb",
    "outputId": "e6cd13b2-32cc-4614-ced0-eac7ed4f1bd3"
   },
   "outputs": [
    {
     "data": {
      "text/html": [
       "<div>\n",
       "<style scoped>\n",
       "    .dataframe tbody tr th:only-of-type {\n",
       "        vertical-align: middle;\n",
       "    }\n",
       "\n",
       "    .dataframe tbody tr th {\n",
       "        vertical-align: top;\n",
       "    }\n",
       "\n",
       "    .dataframe thead th {\n",
       "        text-align: right;\n",
       "    }\n",
       "</style>\n",
       "<table border=\"1\" class=\"dataframe\">\n",
       "  <thead>\n",
       "    <tr style=\"text-align: right;\">\n",
       "      <th></th>\n",
       "      <th>Date</th>\n",
       "      <th>Open</th>\n",
       "      <th>High</th>\n",
       "      <th>Low</th>\n",
       "      <th>Close</th>\n",
       "      <th>Adj Close</th>\n",
       "      <th>Volume</th>\n",
       "    </tr>\n",
       "  </thead>\n",
       "  <tbody>\n",
       "    <tr>\n",
       "      <th>5779</th>\n",
       "      <td>2020-06-24</td>\n",
       "      <td>35679.738281</td>\n",
       "      <td>35706.550781</td>\n",
       "      <td>34794.929688</td>\n",
       "      <td>34868.980469</td>\n",
       "      <td>34868.980469</td>\n",
       "      <td>26600.0</td>\n",
       "    </tr>\n",
       "    <tr>\n",
       "      <th>5780</th>\n",
       "      <td>2020-06-25</td>\n",
       "      <td>34525.390625</td>\n",
       "      <td>35081.609375</td>\n",
       "      <td>34499.781250</td>\n",
       "      <td>34842.101563</td>\n",
       "      <td>34842.101563</td>\n",
       "      <td>24600.0</td>\n",
       "    </tr>\n",
       "    <tr>\n",
       "      <th>5781</th>\n",
       "      <td>2020-06-26</td>\n",
       "      <td>35144.781250</td>\n",
       "      <td>35254.878906</td>\n",
       "      <td>34910.339844</td>\n",
       "      <td>35171.269531</td>\n",
       "      <td>35171.269531</td>\n",
       "      <td>24800.0</td>\n",
       "    </tr>\n",
       "    <tr>\n",
       "      <th>5782</th>\n",
       "      <td>2020-06-29</td>\n",
       "      <td>34926.949219</td>\n",
       "      <td>35032.359375</td>\n",
       "      <td>34662.058594</td>\n",
       "      <td>34961.519531</td>\n",
       "      <td>34961.519531</td>\n",
       "      <td>18300.0</td>\n",
       "    </tr>\n",
       "    <tr>\n",
       "      <th>5783</th>\n",
       "      <td>2020-06-30</td>\n",
       "      <td>35168.300781</td>\n",
       "      <td>35233.910156</td>\n",
       "      <td>34812.800781</td>\n",
       "      <td>34915.800781</td>\n",
       "      <td>34915.800781</td>\n",
       "      <td>18500.0</td>\n",
       "    </tr>\n",
       "  </tbody>\n",
       "</table>\n",
       "</div>"
      ],
      "text/plain": [
       "           Date          Open          High           Low         Close  \\\n",
       "5779 2020-06-24  35679.738281  35706.550781  34794.929688  34868.980469   \n",
       "5780 2020-06-25  34525.390625  35081.609375  34499.781250  34842.101563   \n",
       "5781 2020-06-26  35144.781250  35254.878906  34910.339844  35171.269531   \n",
       "5782 2020-06-29  34926.949219  35032.359375  34662.058594  34961.519531   \n",
       "5783 2020-06-30  35168.300781  35233.910156  34812.800781  34915.800781   \n",
       "\n",
       "         Adj Close   Volume  \n",
       "5779  34868.980469  26600.0  \n",
       "5780  34842.101563  24600.0  \n",
       "5781  35171.269531  24800.0  \n",
       "5782  34961.519531  18300.0  \n",
       "5783  34915.800781  18500.0  "
      ]
     },
     "execution_count": 21,
     "metadata": {},
     "output_type": "execute_result"
    }
   ],
   "source": [
    "data.tail()"
   ]
  },
  {
   "cell_type": "code",
   "execution_count": 22,
   "metadata": {
    "colab": {
     "base_uri": "https://localhost:8080/"
    },
    "id": "80ttfSplMwry",
    "outputId": "f29f4e53-8bd5-4136-f156-b29e83684916"
   },
   "outputs": [
    {
     "data": {
      "text/plain": [
       "0"
      ]
     },
     "execution_count": 22,
     "metadata": {},
     "output_type": "execute_result"
    }
   ],
   "source": [
    "df2 = data_news.drop_duplicates()\n",
    "df2.duplicated().sum()"
   ]
  },
  {
   "cell_type": "code",
   "execution_count": 23,
   "metadata": {
    "colab": {
     "base_uri": "https://localhost:8080/",
     "height": 195
    },
    "id": "3-xsLB0dM2al",
    "outputId": "a2993d93-1668-401a-dbb0-03f82aaca3e3"
   },
   "outputs": [
    {
     "data": {
      "text/html": [
       "<div>\n",
       "<style scoped>\n",
       "    .dataframe tbody tr th:only-of-type {\n",
       "        vertical-align: middle;\n",
       "    }\n",
       "\n",
       "    .dataframe tbody tr th {\n",
       "        vertical-align: top;\n",
       "    }\n",
       "\n",
       "    .dataframe thead th {\n",
       "        text-align: right;\n",
       "    }\n",
       "</style>\n",
       "<table border=\"1\" class=\"dataframe\">\n",
       "  <thead>\n",
       "    <tr style=\"text-align: right;\">\n",
       "      <th></th>\n",
       "      <th>headline_text</th>\n",
       "      <th>word_count</th>\n",
       "    </tr>\n",
       "  </thead>\n",
       "  <tbody>\n",
       "    <tr>\n",
       "      <th>2242851</th>\n",
       "      <td>Here's how to calm your Monday in 5 minutes! I...</td>\n",
       "      <td>5467</td>\n",
       "    </tr>\n",
       "    <tr>\n",
       "      <th>2243548</th>\n",
       "      <td>How much water should you drink every day? Way...</td>\n",
       "      <td>5774</td>\n",
       "    </tr>\n",
       "    <tr>\n",
       "      <th>2244248</th>\n",
       "      <td>How to find the pleasure spots in your man Pak...</td>\n",
       "      <td>5672</td>\n",
       "    </tr>\n",
       "    <tr>\n",
       "      <th>2244947</th>\n",
       "      <td>Cancer: 12 foods to battle cancer Top 5 health...</td>\n",
       "      <td>5593</td>\n",
       "    </tr>\n",
       "    <tr>\n",
       "      <th>2245645</th>\n",
       "      <td>How to beat that bloating feeling 10 alternate...</td>\n",
       "      <td>5732</td>\n",
       "    </tr>\n",
       "  </tbody>\n",
       "</table>\n",
       "</div>"
      ],
      "text/plain": [
       "                                             headline_text  word_count\n",
       "2242851  Here's how to calm your Monday in 5 minutes! I...        5467\n",
       "2243548  How much water should you drink every day? Way...        5774\n",
       "2244248  How to find the pleasure spots in your man Pak...        5672\n",
       "2244947  Cancer: 12 foods to battle cancer Top 5 health...        5593\n",
       "2245645  How to beat that bloating feeling 10 alternate...        5732"
      ]
     },
     "execution_count": 23,
     "metadata": {},
     "output_type": "execute_result"
    }
   ],
   "source": [
    "df2['word_count'] = df2['headline_text'].apply(lambda x: len(str(x).split(\" \")))\n",
    "df2[['headline_text','word_count']].head()"
   ]
  },
  {
   "cell_type": "code",
   "execution_count": 24,
   "metadata": {
    "colab": {
     "base_uri": "https://localhost:8080/",
     "height": 195
    },
    "id": "YWMavt-UM5s3",
    "outputId": "6883b81b-f5d9-4c1e-9dc7-eee03f8f8a2b"
   },
   "outputs": [
    {
     "data": {
      "text/html": [
       "<div>\n",
       "<style scoped>\n",
       "    .dataframe tbody tr th:only-of-type {\n",
       "        vertical-align: middle;\n",
       "    }\n",
       "\n",
       "    .dataframe tbody tr th {\n",
       "        vertical-align: top;\n",
       "    }\n",
       "\n",
       "    .dataframe thead th {\n",
       "        text-align: right;\n",
       "    }\n",
       "</style>\n",
       "<table border=\"1\" class=\"dataframe\">\n",
       "  <thead>\n",
       "    <tr style=\"text-align: right;\">\n",
       "      <th></th>\n",
       "      <th>headline_text</th>\n",
       "      <th>char_count</th>\n",
       "    </tr>\n",
       "  </thead>\n",
       "  <tbody>\n",
       "    <tr>\n",
       "      <th>2242851</th>\n",
       "      <td>Here's how to calm your Monday in 5 minutes! I...</td>\n",
       "      <td>34147</td>\n",
       "    </tr>\n",
       "    <tr>\n",
       "      <th>2243548</th>\n",
       "      <td>How much water should you drink every day? Way...</td>\n",
       "      <td>35830</td>\n",
       "    </tr>\n",
       "    <tr>\n",
       "      <th>2244248</th>\n",
       "      <td>How to find the pleasure spots in your man Pak...</td>\n",
       "      <td>34863</td>\n",
       "    </tr>\n",
       "    <tr>\n",
       "      <th>2244947</th>\n",
       "      <td>Cancer: 12 foods to battle cancer Top 5 health...</td>\n",
       "      <td>34430</td>\n",
       "    </tr>\n",
       "    <tr>\n",
       "      <th>2245645</th>\n",
       "      <td>How to beat that bloating feeling 10 alternate...</td>\n",
       "      <td>35645</td>\n",
       "    </tr>\n",
       "  </tbody>\n",
       "</table>\n",
       "</div>"
      ],
      "text/plain": [
       "                                             headline_text  char_count\n",
       "2242851  Here's how to calm your Monday in 5 minutes! I...       34147\n",
       "2243548  How much water should you drink every day? Way...       35830\n",
       "2244248  How to find the pleasure spots in your man Pak...       34863\n",
       "2244947  Cancer: 12 foods to battle cancer Top 5 health...       34430\n",
       "2245645  How to beat that bloating feeling 10 alternate...       35645"
      ]
     },
     "execution_count": 24,
     "metadata": {},
     "output_type": "execute_result"
    }
   ],
   "source": [
    "df2['char_count'] = df2['headline_text'].str.len()\n",
    "df2[['headline_text','char_count']].head()"
   ]
  },
  {
   "cell_type": "code",
   "execution_count": 25,
   "metadata": {
    "colab": {
     "base_uri": "https://localhost:8080/",
     "height": 195
    },
    "id": "bhpnx_isM8u6",
    "outputId": "667e3705-1dd5-4258-9482-8ecb8b841c92"
   },
   "outputs": [
    {
     "data": {
      "text/html": [
       "<div>\n",
       "<style scoped>\n",
       "    .dataframe tbody tr th:only-of-type {\n",
       "        vertical-align: middle;\n",
       "    }\n",
       "\n",
       "    .dataframe tbody tr th {\n",
       "        vertical-align: top;\n",
       "    }\n",
       "\n",
       "    .dataframe thead th {\n",
       "        text-align: right;\n",
       "    }\n",
       "</style>\n",
       "<table border=\"1\" class=\"dataframe\">\n",
       "  <thead>\n",
       "    <tr style=\"text-align: right;\">\n",
       "      <th></th>\n",
       "      <th>headline_text</th>\n",
       "      <th>avg_word</th>\n",
       "    </tr>\n",
       "  </thead>\n",
       "  <tbody>\n",
       "    <tr>\n",
       "      <th>2242851</th>\n",
       "      <td>Here's how to calm your Monday in 5 minutes! I...</td>\n",
       "      <td>5.246204</td>\n",
       "    </tr>\n",
       "    <tr>\n",
       "      <th>2243548</th>\n",
       "      <td>How much water should you drink every day? Way...</td>\n",
       "      <td>5.205577</td>\n",
       "    </tr>\n",
       "    <tr>\n",
       "      <th>2244248</th>\n",
       "      <td>How to find the pleasure spots in your man Pak...</td>\n",
       "      <td>5.146685</td>\n",
       "    </tr>\n",
       "    <tr>\n",
       "      <th>2244947</th>\n",
       "      <td>Cancer: 12 foods to battle cancer Top 5 health...</td>\n",
       "      <td>5.156088</td>\n",
       "    </tr>\n",
       "    <tr>\n",
       "      <th>2245645</th>\n",
       "      <td>How to beat that bloating feeling 10 alternate...</td>\n",
       "      <td>5.218772</td>\n",
       "    </tr>\n",
       "  </tbody>\n",
       "</table>\n",
       "</div>"
      ],
      "text/plain": [
       "                                             headline_text  avg_word\n",
       "2242851  Here's how to calm your Monday in 5 minutes! I...  5.246204\n",
       "2243548  How much water should you drink every day? Way...  5.205577\n",
       "2244248  How to find the pleasure spots in your man Pak...  5.146685\n",
       "2244947  Cancer: 12 foods to battle cancer Top 5 health...  5.156088\n",
       "2245645  How to beat that bloating feeling 10 alternate...  5.218772"
      ]
     },
     "execution_count": 25,
     "metadata": {},
     "output_type": "execute_result"
    }
   ],
   "source": [
    "def avg_word(sentence):\n",
    "    words = sentence.split()\n",
    "    return(sum(len(word) for word in words)/len(words))\n",
    "df2['avg_word'] = df2['headline_text'].apply(lambda x: avg_word(x))\n",
    "df2[['headline_text','avg_word']].head()"
   ]
  },
  {
   "cell_type": "code",
   "execution_count": 26,
   "metadata": {
    "colab": {
     "base_uri": "https://localhost:8080/",
     "height": 195
    },
    "id": "leFnwb3ARIrj",
    "outputId": "3eaa7923-fb93-4d79-92ee-7bf9c724120d"
   },
   "outputs": [
    {
     "data": {
      "text/html": [
       "<div>\n",
       "<style scoped>\n",
       "    .dataframe tbody tr th:only-of-type {\n",
       "        vertical-align: middle;\n",
       "    }\n",
       "\n",
       "    .dataframe tbody tr th {\n",
       "        vertical-align: top;\n",
       "    }\n",
       "\n",
       "    .dataframe thead th {\n",
       "        text-align: right;\n",
       "    }\n",
       "</style>\n",
       "<table border=\"1\" class=\"dataframe\">\n",
       "  <thead>\n",
       "    <tr style=\"text-align: right;\">\n",
       "      <th></th>\n",
       "      <th>headline_text</th>\n",
       "      <th>stopwords</th>\n",
       "    </tr>\n",
       "  </thead>\n",
       "  <tbody>\n",
       "    <tr>\n",
       "      <th>2242851</th>\n",
       "      <td>Here's how to calm your Monday in 5 minutes! I...</td>\n",
       "      <td>1118</td>\n",
       "    </tr>\n",
       "    <tr>\n",
       "      <th>2243548</th>\n",
       "      <td>How much water should you drink every day? Way...</td>\n",
       "      <td>1216</td>\n",
       "    </tr>\n",
       "    <tr>\n",
       "      <th>2244248</th>\n",
       "      <td>How to find the pleasure spots in your man Pak...</td>\n",
       "      <td>1216</td>\n",
       "    </tr>\n",
       "    <tr>\n",
       "      <th>2244947</th>\n",
       "      <td>Cancer: 12 foods to battle cancer Top 5 health...</td>\n",
       "      <td>1171</td>\n",
       "    </tr>\n",
       "    <tr>\n",
       "      <th>2245645</th>\n",
       "      <td>How to beat that bloating feeling 10 alternate...</td>\n",
       "      <td>1196</td>\n",
       "    </tr>\n",
       "  </tbody>\n",
       "</table>\n",
       "</div>"
      ],
      "text/plain": [
       "                                             headline_text  stopwords\n",
       "2242851  Here's how to calm your Monday in 5 minutes! I...       1118\n",
       "2243548  How much water should you drink every day? Way...       1216\n",
       "2244248  How to find the pleasure spots in your man Pak...       1216\n",
       "2244947  Cancer: 12 foods to battle cancer Top 5 health...       1171\n",
       "2245645  How to beat that bloating feeling 10 alternate...       1196"
      ]
     },
     "execution_count": 26,
     "metadata": {},
     "output_type": "execute_result"
    }
   ],
   "source": [
    "stop = stopwords.words('english')\n",
    "df2['stopwords'] = df2['headline_text'].apply(lambda x: len([x for x in x.split() if x in stop]))\n",
    "df2[['headline_text','stopwords']].head()"
   ]
  },
  {
   "cell_type": "code",
   "execution_count": 27,
   "metadata": {
    "colab": {
     "base_uri": "https://localhost:8080/",
     "height": 195
    },
    "id": "jX5-ldtQRex2",
    "outputId": "e465757c-05c8-4e91-f606-0c18aaae4a7a"
   },
   "outputs": [
    {
     "data": {
      "text/html": [
       "<div>\n",
       "<style scoped>\n",
       "    .dataframe tbody tr th:only-of-type {\n",
       "        vertical-align: middle;\n",
       "    }\n",
       "\n",
       "    .dataframe tbody tr th {\n",
       "        vertical-align: top;\n",
       "    }\n",
       "\n",
       "    .dataframe thead th {\n",
       "        text-align: right;\n",
       "    }\n",
       "</style>\n",
       "<table border=\"1\" class=\"dataframe\">\n",
       "  <thead>\n",
       "    <tr style=\"text-align: right;\">\n",
       "      <th></th>\n",
       "      <th>headline_text</th>\n",
       "      <th>numerics</th>\n",
       "    </tr>\n",
       "  </thead>\n",
       "  <tbody>\n",
       "    <tr>\n",
       "      <th>2242851</th>\n",
       "      <td>Here's how to calm your Monday in 5 minutes! I...</td>\n",
       "      <td>81</td>\n",
       "    </tr>\n",
       "    <tr>\n",
       "      <th>2243548</th>\n",
       "      <td>How much water should you drink every day? Way...</td>\n",
       "      <td>75</td>\n",
       "    </tr>\n",
       "    <tr>\n",
       "      <th>2244248</th>\n",
       "      <td>How to find the pleasure spots in your man Pak...</td>\n",
       "      <td>86</td>\n",
       "    </tr>\n",
       "    <tr>\n",
       "      <th>2244947</th>\n",
       "      <td>Cancer: 12 foods to battle cancer Top 5 health...</td>\n",
       "      <td>87</td>\n",
       "    </tr>\n",
       "    <tr>\n",
       "      <th>2245645</th>\n",
       "      <td>How to beat that bloating feeling 10 alternate...</td>\n",
       "      <td>94</td>\n",
       "    </tr>\n",
       "  </tbody>\n",
       "</table>\n",
       "</div>"
      ],
      "text/plain": [
       "                                             headline_text  numerics\n",
       "2242851  Here's how to calm your Monday in 5 minutes! I...        81\n",
       "2243548  How much water should you drink every day? Way...        75\n",
       "2244248  How to find the pleasure spots in your man Pak...        86\n",
       "2244947  Cancer: 12 foods to battle cancer Top 5 health...        87\n",
       "2245645  How to beat that bloating feeling 10 alternate...        94"
      ]
     },
     "execution_count": 27,
     "metadata": {},
     "output_type": "execute_result"
    }
   ],
   "source": [
    "df2['numerics'] = df2['headline_text'].apply(lambda x: len([x for x in x.split() if x.isdigit()]))\n",
    "df2[['headline_text','numerics']].head()"
   ]
  },
  {
   "cell_type": "code",
   "execution_count": 28,
   "metadata": {
    "colab": {
     "base_uri": "https://localhost:8080/",
     "height": 195
    },
    "id": "8H6fYtGFRkem",
    "outputId": "a5136333-283e-475b-eb42-b60a516d0d21"
   },
   "outputs": [
    {
     "data": {
      "text/html": [
       "<div>\n",
       "<style scoped>\n",
       "    .dataframe tbody tr th:only-of-type {\n",
       "        vertical-align: middle;\n",
       "    }\n",
       "\n",
       "    .dataframe tbody tr th {\n",
       "        vertical-align: top;\n",
       "    }\n",
       "\n",
       "    .dataframe thead th {\n",
       "        text-align: right;\n",
       "    }\n",
       "</style>\n",
       "<table border=\"1\" class=\"dataframe\">\n",
       "  <thead>\n",
       "    <tr style=\"text-align: right;\">\n",
       "      <th></th>\n",
       "      <th>headline_text</th>\n",
       "      <th>upper</th>\n",
       "    </tr>\n",
       "  </thead>\n",
       "  <tbody>\n",
       "    <tr>\n",
       "      <th>2242851</th>\n",
       "      <td>Here's how to calm your Monday in 5 minutes! I...</td>\n",
       "      <td>202</td>\n",
       "    </tr>\n",
       "    <tr>\n",
       "      <th>2243548</th>\n",
       "      <td>How much water should you drink every day? Way...</td>\n",
       "      <td>257</td>\n",
       "    </tr>\n",
       "    <tr>\n",
       "      <th>2244248</th>\n",
       "      <td>How to find the pleasure spots in your man Pak...</td>\n",
       "      <td>247</td>\n",
       "    </tr>\n",
       "    <tr>\n",
       "      <th>2244947</th>\n",
       "      <td>Cancer: 12 foods to battle cancer Top 5 health...</td>\n",
       "      <td>237</td>\n",
       "    </tr>\n",
       "    <tr>\n",
       "      <th>2245645</th>\n",
       "      <td>How to beat that bloating feeling 10 alternate...</td>\n",
       "      <td>228</td>\n",
       "    </tr>\n",
       "  </tbody>\n",
       "</table>\n",
       "</div>"
      ],
      "text/plain": [
       "                                             headline_text  upper\n",
       "2242851  Here's how to calm your Monday in 5 minutes! I...    202\n",
       "2243548  How much water should you drink every day? Way...    257\n",
       "2244248  How to find the pleasure spots in your man Pak...    247\n",
       "2244947  Cancer: 12 foods to battle cancer Top 5 health...    237\n",
       "2245645  How to beat that bloating feeling 10 alternate...    228"
      ]
     },
     "execution_count": 28,
     "metadata": {},
     "output_type": "execute_result"
    }
   ],
   "source": [
    "df2['upper'] = df2['headline_text'].apply(lambda x: len([x for x in x.split() if x.isupper()]))\n",
    "df2[['headline_text','upper']].head()"
   ]
  },
  {
   "cell_type": "code",
   "execution_count": 29,
   "metadata": {
    "colab": {
     "base_uri": "https://localhost:8080/"
    },
    "id": "VB3rLDoURoAN",
    "outputId": "9e55a22a-35d8-4d7f-d6b4-e26cf12921ba"
   },
   "outputs": [
    {
     "data": {
      "text/plain": [
       "2242851    here's how to calm your monday in 5 minutes! i...\n",
       "2243548    how much water should you drink every day? way...\n",
       "2244248    how to find the pleasure spots in your man pak...\n",
       "2244947    cancer: 12 foods to battle cancer top 5 health...\n",
       "2245645    how to beat that bloating feeling 10 alternate...\n",
       "Name: headline_text, dtype: object"
      ]
     },
     "execution_count": 29,
     "metadata": {},
     "output_type": "execute_result"
    }
   ],
   "source": [
    "df2['headline_text'] = df2['headline_text'].apply(lambda x: \" \".join(x.lower() for x in x.split()))\n",
    "df2['headline_text'].head()"
   ]
  },
  {
   "cell_type": "code",
   "execution_count": 30,
   "metadata": {
    "colab": {
     "base_uri": "https://localhost:8080/"
    },
    "id": "o8Tr0XXoRr03",
    "outputId": "89dc00db-f662-46db-ec64-b058f756352e"
   },
   "outputs": [
    {
     "name": "stderr",
     "output_type": "stream",
     "text": [
      "C:\\Users\\hp\\AppData\\Local\\Temp/ipykernel_9328/3041616038.py:1: FutureWarning: The default value of regex will change from True to False in a future version.\n",
      "  df2['headline_text'] = df2['headline_text'].str.replace('[^\\w\\s]','')\n"
     ]
    },
    {
     "data": {
      "text/plain": [
       "2242851    heres how to calm your monday in 5 minutes in ...\n",
       "2243548    how much water should you drink every day ways...\n",
       "2244248    how to find the pleasure spots in your man pak...\n",
       "2244947    cancer 12 foods to battle cancer top 5 healthi...\n",
       "2245645    how to beat that bloating feeling 10 alternate...\n",
       "Name: headline_text, dtype: object"
      ]
     },
     "execution_count": 30,
     "metadata": {},
     "output_type": "execute_result"
    }
   ],
   "source": [
    "df2['headline_text'] = df2['headline_text'].str.replace('[^\\w\\s]','')\n",
    "df2['headline_text'].head()"
   ]
  },
  {
   "cell_type": "code",
   "execution_count": 31,
   "metadata": {
    "colab": {
     "base_uri": "https://localhost:8080/"
    },
    "id": "Ih4JwCI8Rv6N",
    "outputId": "e323219d-0c59-4ffa-a364-c747e5dd1f87"
   },
   "outputs": [
    {
     "data": {
      "text/plain": [
       "2242851    heres calm monday 5 minutes pics 7 super ways ...\n",
       "2243548    much water drink every day ways identify diffe...\n",
       "2244248    find pleasure spots man pak singers faced crit...\n",
       "2244947    cancer 12 foods battle cancer top 5 healthiest...\n",
       "2245645    beat bloating feeling 10 alternate treatments ...\n",
       "Name: headline_text, dtype: object"
      ]
     },
     "execution_count": 31,
     "metadata": {},
     "output_type": "execute_result"
    }
   ],
   "source": [
    "stop = stopwords.words('english')\n",
    "df2['headline_text'] = df2['headline_text'].apply(\n",
    "    lambda x: \" \".join(x for x in x.split() if x not in stop))\n",
    "df2['headline_text'].head()"
   ]
  },
  {
   "cell_type": "code",
   "execution_count": 32,
   "metadata": {
    "colab": {
     "base_uri": "https://localhost:8080/"
    },
    "id": "Rw1edstqR0x7",
    "outputId": "fd7e215d-aec0-4a82-c7aa-7a6d138f4a03"
   },
   "outputs": [
    {
     "data": {
      "text/plain": [
       "rs          35305\n",
       "new         28356\n",
       "held        25760\n",
       "says        25467\n",
       "man         25072\n",
       "delhi       21354\n",
       "get         21199\n",
       "govt        20067\n",
       "two         19885\n",
       "cops        18858\n",
       "2           18656\n",
       "india       18554\n",
       "police      18291\n",
       "bjp         18149\n",
       "city        17806\n",
       "may         17338\n",
       "hc          17273\n",
       "case        16699\n",
       "students    16438\n",
       "woman       15913\n",
       "dtype: int64"
      ]
     },
     "execution_count": 32,
     "metadata": {},
     "output_type": "execute_result"
    }
   ],
   "source": [
    "common = pd.Series(' '.join(df2['headline_text']).split()).value_counts()[:20]\n",
    "common"
   ]
  },
  {
   "cell_type": "code",
   "execution_count": 33,
   "metadata": {
    "colab": {
     "base_uri": "https://localhost:8080/"
    },
    "id": "OyHhlT23R5mk",
    "outputId": "7523f585-fa2f-4644-f9af-cc1aeb352bdc"
   },
   "outputs": [
    {
     "data": {
      "text/plain": [
       "3421573    biginterview dhritiman chatterjee nobody dares...\n",
       "3422072    horoscope today 28 december 2020 check astrolo...\n",
       "3422570    recovers charred remains thief burnt shop dump...\n",
       "3423069    numerology readings 30 december 2020 predictio...\n",
       "3423569    horoscope today 31 december 2020 check astrolo...\n",
       "Name: headline_text, dtype: object"
      ]
     },
     "execution_count": 33,
     "metadata": {},
     "output_type": "execute_result"
    }
   ],
   "source": [
    "common = list(common.index)\n",
    "df2['headline_text'] = df2['headline_text'].apply(\n",
    "    lambda x: \" \".join(x for x in x.split() if x not in common))\n",
    "df2['headline_text'].tail()"
   ]
  },
  {
   "cell_type": "code",
   "execution_count": 34,
   "metadata": {
    "colab": {
     "base_uri": "https://localhost:8080/"
    },
    "id": "CVBxMm0IR-za",
    "outputId": "0093fdd4-285e-42f8-a7dd-00c0c4fa00f2"
   },
   "outputs": [
    {
     "data": {
      "text/plain": [
       "79l               1\n",
       "monsooninduced    1\n",
       "sirvoiverna       1\n",
       "telemarketer      1\n",
       "hardyal           1\n",
       "arlekars          1\n",
       "cutterwielding    1\n",
       "evahanchori       1\n",
       "thideer           1\n",
       "9bala             1\n",
       "dtype: int64"
      ]
     },
     "execution_count": 34,
     "metadata": {},
     "output_type": "execute_result"
    }
   ],
   "source": [
    "common = pd.Series(' '.join(df2['headline_text']).split()).value_counts()[-10:]\n",
    "common"
   ]
  },
  {
   "cell_type": "code",
   "execution_count": 35,
   "metadata": {
    "colab": {
     "base_uri": "https://localhost:8080/"
    },
    "id": "cQg6TnmNSB_a",
    "outputId": "ccb3831e-7734-494d-be95-166a05dc1c7d"
   },
   "outputs": [
    {
     "data": {
      "text/plain": [
       "2242851    heres calm monday 5 minutes pics 7 super ways ...\n",
       "2243548    much water drink every day ways identify diffe...\n",
       "2244248    find pleasure spots pak singers faced criticis...\n",
       "2244947    cancer 12 foods battle cancer top 5 healthiest...\n",
       "2245645    beat bloating feeling 10 alternate treatments ...\n",
       "Name: headline_text, dtype: object"
      ]
     },
     "execution_count": 35,
     "metadata": {},
     "output_type": "execute_result"
    }
   ],
   "source": [
    "common = list(common.index)\n",
    "df2['headline_text'] = df2['headline_text'].apply(\n",
    "    lambda x: \" \".join(x for x in x.split() if x not in common))\n",
    "df2['headline_text'].head()"
   ]
  },
  {
   "cell_type": "code",
   "execution_count": 36,
   "metadata": {
    "colab": {
     "base_uri": "https://localhost:8080/"
    },
    "id": "VHM5uXhYSG59",
    "outputId": "6fa0f13a-b5ff-4c69-e094-87e2bc8d2d91"
   },
   "outputs": [
    {
     "data": {
      "text/plain": [
       "(1901, 8)"
      ]
     },
     "execution_count": 36,
     "metadata": {},
     "output_type": "execute_result"
    }
   ],
   "source": [
    "df2.shape"
   ]
  },
  {
   "cell_type": "code",
   "execution_count": 37,
   "metadata": {
    "id": "hVLO3XWJSLO3"
   },
   "outputs": [],
   "source": [
    "Data = df2"
   ]
  },
  {
   "cell_type": "code",
   "execution_count": 38,
   "metadata": {
    "colab": {
     "base_uri": "https://localhost:8080/"
    },
    "id": "ZehUKQlqSN9y",
    "outputId": "2294457c-ca1b-4dfe-e6fb-aca3d07062a0"
   },
   "outputs": [
    {
     "data": {
      "text/plain": [
       "(1901, 8)"
      ]
     },
     "execution_count": 38,
     "metadata": {},
     "output_type": "execute_result"
    }
   ],
   "source": [
    "Data.shape\n"
   ]
  },
  {
   "cell_type": "code",
   "execution_count": 39,
   "metadata": {
    "colab": {
     "base_uri": "https://localhost:8080/"
    },
    "id": "F-Kp42t8SQL3",
    "outputId": "58c48de4-b676-4e6b-eb54-4c016ea4bc7e"
   },
   "outputs": [
    {
     "name": "stderr",
     "output_type": "stream",
     "text": [
      "[nltk_data] Downloading package punkt to\n",
      "[nltk_data]     C:\\Users\\hp\\AppData\\Roaming\\nltk_data...\n",
      "[nltk_data]   Package punkt is already up-to-date!\n"
     ]
    },
    {
     "data": {
      "text/plain": [
       "WordList(['2242851', 'heres', 'calm', 'monday', '5', 'minutes', 'pics', '7', 'super', 'ways', '2243548', 'much', 'water', 'drink', 'every', 'day', 'ways', 'identify', 'diffe', '2244248', 'find', 'pleasure', 'spots', 'pak', 'singers', 'faced', 'criticis', '2244947', 'cancer', '12', 'foods', 'battle', 'cancer', 'top', '5', 'healthiest', '2245645', 'beat', 'bloating', 'feeling', '10', 'alternate', 'treatments', '3421573', 'biginterview', 'dhritiman', 'chatterjee', 'nobody', 'dares', '3422072', 'horoscope', 'today', '28', 'december', '2020', 'check', 'astrolo', '3422570', 'recovers', 'charred', 'remains', 'thief', 'burnt', 'shop', 'dump', '3423069', 'numerology', 'readings', '30', 'december', '2020', 'predictio', '3423569', 'horoscope', 'today', '31', 'december', '2020', 'check', 'astrolo', 'Name', 'headline_text', 'Length', '1901', 'dtype', 'object'])"
      ]
     },
     "execution_count": 39,
     "metadata": {},
     "output_type": "execute_result"
    }
   ],
   "source": [
    "nltk.download('punkt')\n",
    "TextBlob(str(Data['headline_text'])).words"
   ]
  },
  {
   "cell_type": "code",
   "execution_count": 40,
   "metadata": {
    "colab": {
     "base_uri": "https://localhost:8080/"
    },
    "id": "Ze4os4maTBug",
    "outputId": "ea122f72-f755-49a2-bc57-21bd32f57115"
   },
   "outputs": [
    {
     "data": {
      "text/plain": [
       "WordList(['2242851', 'heres', 'calm', 'monday', '5', 'minutes', 'pics', '7', 'super', 'ways', '2243548', 'much', 'water', 'drink', 'every', 'day', 'ways', 'identify', 'diffe', '2244248', 'find', 'pleasure', 'spots', 'pak', 'singers', 'faced', 'criticis', '2244947', 'cancer', '12', 'foods', 'battle', 'cancer', 'top', '5', 'healthiest', '2245645', 'beat', 'bloating', 'feeling', '10', 'alternate', 'treatments', '3421573', 'biginterview', 'dhritiman', 'chatterjee', 'nobody', 'dares', '3422072', 'horoscope', 'today', '28', 'december', '2020', 'check', 'astrolo', '3422570', 'recovers', 'charred', 'remains', 'thief', 'burnt', 'shop', 'dump', '3423069', 'numerology', 'readings', '30', 'december', '2020', 'predictio', '3423569', 'horoscope', 'today', '31', 'december', '2020', 'check', 'astrolo', 'Name', 'headline_text', 'Length', '1901', 'dtype', 'object'])"
      ]
     },
     "execution_count": 40,
     "metadata": {},
     "output_type": "execute_result"
    }
   ],
   "source": [
    "TextBlob(str(Data['headline_text'])).words"
   ]
  },
  {
   "cell_type": "code",
   "execution_count": 41,
   "metadata": {
    "colab": {
     "base_uri": "https://localhost:8080/"
    },
    "id": "wmRa7skdTE9h",
    "outputId": "9f6dc03c-bb90-438a-9509-81f2d2b57a0e"
   },
   "outputs": [
    {
     "data": {
      "text/plain": [
       "2242851    here calm monday 5 minut pic 7 super way wont ...\n",
       "2243548    much water drink everi day way identifi differ...\n",
       "2244248    find pleasur spot pak singer face critic thapp...\n",
       "2244947    cancer 12 food battl cancer top 5 healthiest a...\n",
       "2245645    beat bloat feel 10 altern treatment depress 8 ...\n",
       "                                 ...                        \n",
       "3421573    biginterview dhritiman chatterje nobodi dare m...\n",
       "3422072    horoscop today 28 decemb 2020 check astrolog p...\n",
       "3422570    recov char remain thief burnt shop dump believ...\n",
       "3423069    numerolog read 30 decemb 2020 predict lucki co...\n",
       "3423569    horoscop today 31 decemb 2020 check astrolog p...\n",
       "Name: headline_text, Length: 1901, dtype: object"
      ]
     },
     "execution_count": 41,
     "metadata": {},
     "output_type": "execute_result"
    }
   ],
   "source": [
    "st = PorterStemmer()\n",
    "Data['headline_text'].apply(lambda x: \" \".join([st.stem(word) for word in x.split()]))"
   ]
  },
  {
   "cell_type": "code",
   "execution_count": 42,
   "metadata": {
    "colab": {
     "base_uri": "https://localhost:8080/",
     "height": 195
    },
    "id": "bgd10omQTLDi",
    "outputId": "9aab1ae2-512f-40bb-d85a-bff3afc1ca80"
   },
   "outputs": [
    {
     "data": {
      "text/html": [
       "<div>\n",
       "<style scoped>\n",
       "    .dataframe tbody tr th:only-of-type {\n",
       "        vertical-align: middle;\n",
       "    }\n",
       "\n",
       "    .dataframe tbody tr th {\n",
       "        vertical-align: top;\n",
       "    }\n",
       "\n",
       "    .dataframe thead th {\n",
       "        text-align: right;\n",
       "    }\n",
       "</style>\n",
       "<table border=\"1\" class=\"dataframe\">\n",
       "  <thead>\n",
       "    <tr style=\"text-align: right;\">\n",
       "      <th></th>\n",
       "      <th>headline_text</th>\n",
       "      <th>sentiment</th>\n",
       "    </tr>\n",
       "  </thead>\n",
       "  <tbody>\n",
       "    <tr>\n",
       "      <th>2242851</th>\n",
       "      <td>heres calm monday 5 minutes pics 7 super ways ...</td>\n",
       "      <td>0.089433</td>\n",
       "    </tr>\n",
       "    <tr>\n",
       "      <th>2243548</th>\n",
       "      <td>much water drink every day ways identify diffe...</td>\n",
       "      <td>0.045460</td>\n",
       "    </tr>\n",
       "    <tr>\n",
       "      <th>2244248</th>\n",
       "      <td>find pleasure spots pak singers faced criticis...</td>\n",
       "      <td>0.087048</td>\n",
       "    </tr>\n",
       "    <tr>\n",
       "      <th>2244947</th>\n",
       "      <td>cancer 12 foods battle cancer top 5 healthiest...</td>\n",
       "      <td>0.077245</td>\n",
       "    </tr>\n",
       "    <tr>\n",
       "      <th>2245645</th>\n",
       "      <td>beat bloating feeling 10 alternate treatments ...</td>\n",
       "      <td>0.053181</td>\n",
       "    </tr>\n",
       "  </tbody>\n",
       "</table>\n",
       "</div>"
      ],
      "text/plain": [
       "                                             headline_text  sentiment\n",
       "2242851  heres calm monday 5 minutes pics 7 super ways ...   0.089433\n",
       "2243548  much water drink every day ways identify diffe...   0.045460\n",
       "2244248  find pleasure spots pak singers faced criticis...   0.087048\n",
       "2244947  cancer 12 foods battle cancer top 5 healthiest...   0.077245\n",
       "2245645  beat bloating feeling 10 alternate treatments ...   0.053181"
      ]
     },
     "execution_count": 42,
     "metadata": {},
     "output_type": "execute_result"
    }
   ],
   "source": [
    "Data['sentiment'] = Data['headline_text'].apply(lambda x: TextBlob(x).sentiment[0])\n",
    "Data[['headline_text','sentiment']].head()"
   ]
  },
  {
   "cell_type": "code",
   "execution_count": 43,
   "metadata": {
    "id": "Er_y3FPlTVQv"
   },
   "outputs": [],
   "source": [
    "Data1 = Data[['Date','headline_text','sentiment']].reset_index()\n",
    "Data1 = Data1.drop('index',axis = 1)"
   ]
  },
  {
   "cell_type": "code",
   "execution_count": 44,
   "metadata": {
    "colab": {
     "base_uri": "https://localhost:8080/",
     "height": 402
    },
    "id": "RyTwyp9STvnR",
    "outputId": "dfce092e-bbe3-4c43-bfa4-f3bab9f7db53"
   },
   "outputs": [
    {
     "data": {
      "text/html": [
       "<div>\n",
       "<style scoped>\n",
       "    .dataframe tbody tr th:only-of-type {\n",
       "        vertical-align: middle;\n",
       "    }\n",
       "\n",
       "    .dataframe tbody tr th {\n",
       "        vertical-align: top;\n",
       "    }\n",
       "\n",
       "    .dataframe thead th {\n",
       "        text-align: right;\n",
       "    }\n",
       "</style>\n",
       "<table border=\"1\" class=\"dataframe\">\n",
       "  <thead>\n",
       "    <tr style=\"text-align: right;\">\n",
       "      <th></th>\n",
       "      <th>Date</th>\n",
       "      <th>headline_text</th>\n",
       "      <th>sentiment</th>\n",
       "    </tr>\n",
       "  </thead>\n",
       "  <tbody>\n",
       "    <tr>\n",
       "      <th>0</th>\n",
       "      <td>2015-10-19</td>\n",
       "      <td>heres calm monday 5 minutes pics 7 super ways ...</td>\n",
       "      <td>0.089433</td>\n",
       "    </tr>\n",
       "    <tr>\n",
       "      <th>1</th>\n",
       "      <td>2015-10-20</td>\n",
       "      <td>much water drink every day ways identify diffe...</td>\n",
       "      <td>0.045460</td>\n",
       "    </tr>\n",
       "    <tr>\n",
       "      <th>2</th>\n",
       "      <td>2015-10-21</td>\n",
       "      <td>find pleasure spots pak singers faced criticis...</td>\n",
       "      <td>0.087048</td>\n",
       "    </tr>\n",
       "    <tr>\n",
       "      <th>3</th>\n",
       "      <td>2015-10-22</td>\n",
       "      <td>cancer 12 foods battle cancer top 5 healthiest...</td>\n",
       "      <td>0.077245</td>\n",
       "    </tr>\n",
       "    <tr>\n",
       "      <th>4</th>\n",
       "      <td>2015-10-23</td>\n",
       "      <td>beat bloating feeling 10 alternate treatments ...</td>\n",
       "      <td>0.053181</td>\n",
       "    </tr>\n",
       "    <tr>\n",
       "      <th>...</th>\n",
       "      <td>...</td>\n",
       "      <td>...</td>\n",
       "      <td>...</td>\n",
       "    </tr>\n",
       "    <tr>\n",
       "      <th>1896</th>\n",
       "      <td>2020-12-27</td>\n",
       "      <td>biginterview dhritiman chatterjee nobody dares...</td>\n",
       "      <td>0.005476</td>\n",
       "    </tr>\n",
       "    <tr>\n",
       "      <th>1897</th>\n",
       "      <td>2020-12-28</td>\n",
       "      <td>horoscope today 28 december 2020 check astrolo...</td>\n",
       "      <td>0.028241</td>\n",
       "    </tr>\n",
       "    <tr>\n",
       "      <th>1898</th>\n",
       "      <td>2020-12-29</td>\n",
       "      <td>recovers charred remains thief burnt shop dump...</td>\n",
       "      <td>0.033781</td>\n",
       "    </tr>\n",
       "    <tr>\n",
       "      <th>1899</th>\n",
       "      <td>2020-12-30</td>\n",
       "      <td>numerology readings 30 december 2020 predictio...</td>\n",
       "      <td>0.015298</td>\n",
       "    </tr>\n",
       "    <tr>\n",
       "      <th>1900</th>\n",
       "      <td>2020-12-31</td>\n",
       "      <td>horoscope today 31 december 2020 check astrolo...</td>\n",
       "      <td>0.056054</td>\n",
       "    </tr>\n",
       "  </tbody>\n",
       "</table>\n",
       "<p>1901 rows × 3 columns</p>\n",
       "</div>"
      ],
      "text/plain": [
       "           Date                                      headline_text  sentiment\n",
       "0    2015-10-19  heres calm monday 5 minutes pics 7 super ways ...   0.089433\n",
       "1    2015-10-20  much water drink every day ways identify diffe...   0.045460\n",
       "2    2015-10-21  find pleasure spots pak singers faced criticis...   0.087048\n",
       "3    2015-10-22  cancer 12 foods battle cancer top 5 healthiest...   0.077245\n",
       "4    2015-10-23  beat bloating feeling 10 alternate treatments ...   0.053181\n",
       "...         ...                                                ...        ...\n",
       "1896 2020-12-27  biginterview dhritiman chatterjee nobody dares...   0.005476\n",
       "1897 2020-12-28  horoscope today 28 december 2020 check astrolo...   0.028241\n",
       "1898 2020-12-29  recovers charred remains thief burnt shop dump...   0.033781\n",
       "1899 2020-12-30  numerology readings 30 december 2020 predictio...   0.015298\n",
       "1900 2020-12-31  horoscope today 31 december 2020 check astrolo...   0.056054\n",
       "\n",
       "[1901 rows x 3 columns]"
      ]
     },
     "execution_count": 44,
     "metadata": {},
     "output_type": "execute_result"
    }
   ],
   "source": [
    "Data1"
   ]
  },
  {
   "cell_type": "code",
   "execution_count": 45,
   "metadata": {
    "colab": {
     "base_uri": "https://localhost:8080/",
     "height": 402
    },
    "id": "9ujXMeqbTzZI",
    "outputId": "97c89730-83b0-4807-8559-77734b77e6fb"
   },
   "outputs": [
    {
     "data": {
      "text/html": [
       "<div>\n",
       "<style scoped>\n",
       "    .dataframe tbody tr th:only-of-type {\n",
       "        vertical-align: middle;\n",
       "    }\n",
       "\n",
       "    .dataframe tbody tr th {\n",
       "        vertical-align: top;\n",
       "    }\n",
       "\n",
       "    .dataframe thead th {\n",
       "        text-align: right;\n",
       "    }\n",
       "</style>\n",
       "<table border=\"1\" class=\"dataframe\">\n",
       "  <thead>\n",
       "    <tr style=\"text-align: right;\">\n",
       "      <th></th>\n",
       "      <th>Date</th>\n",
       "      <th>Open</th>\n",
       "      <th>High</th>\n",
       "      <th>Low</th>\n",
       "      <th>Close</th>\n",
       "      <th>Adj Close</th>\n",
       "      <th>Volume</th>\n",
       "    </tr>\n",
       "  </thead>\n",
       "  <tbody>\n",
       "    <tr>\n",
       "      <th>4630</th>\n",
       "      <td>2015-10-19</td>\n",
       "      <td>27305.619141</td>\n",
       "      <td>27387.910156</td>\n",
       "      <td>27246.789063</td>\n",
       "      <td>27364.919922</td>\n",
       "      <td>27364.919922</td>\n",
       "      <td>8200.0</td>\n",
       "    </tr>\n",
       "    <tr>\n",
       "      <th>4631</th>\n",
       "      <td>2015-10-20</td>\n",
       "      <td>27402.900391</td>\n",
       "      <td>27432.070313</td>\n",
       "      <td>27216.400391</td>\n",
       "      <td>27306.830078</td>\n",
       "      <td>27306.830078</td>\n",
       "      <td>9200.0</td>\n",
       "    </tr>\n",
       "    <tr>\n",
       "      <th>4632</th>\n",
       "      <td>2015-10-21</td>\n",
       "      <td>27312.349609</td>\n",
       "      <td>27445.240234</td>\n",
       "      <td>27190.550781</td>\n",
       "      <td>27287.660156</td>\n",
       "      <td>27287.660156</td>\n",
       "      <td>9700.0</td>\n",
       "    </tr>\n",
       "    <tr>\n",
       "      <th>4633</th>\n",
       "      <td>2015-10-23</td>\n",
       "      <td>27466.640625</td>\n",
       "      <td>27555.060547</td>\n",
       "      <td>27421.710938</td>\n",
       "      <td>27470.810547</td>\n",
       "      <td>27470.810547</td>\n",
       "      <td>9900.0</td>\n",
       "    </tr>\n",
       "    <tr>\n",
       "      <th>4634</th>\n",
       "      <td>2015-10-26</td>\n",
       "      <td>27575.039063</td>\n",
       "      <td>27618.140625</td>\n",
       "      <td>27318.199219</td>\n",
       "      <td>27361.960938</td>\n",
       "      <td>27361.960938</td>\n",
       "      <td>11300.0</td>\n",
       "    </tr>\n",
       "    <tr>\n",
       "      <th>...</th>\n",
       "      <td>...</td>\n",
       "      <td>...</td>\n",
       "      <td>...</td>\n",
       "      <td>...</td>\n",
       "      <td>...</td>\n",
       "      <td>...</td>\n",
       "      <td>...</td>\n",
       "    </tr>\n",
       "    <tr>\n",
       "      <th>5779</th>\n",
       "      <td>2020-06-24</td>\n",
       "      <td>35679.738281</td>\n",
       "      <td>35706.550781</td>\n",
       "      <td>34794.929688</td>\n",
       "      <td>34868.980469</td>\n",
       "      <td>34868.980469</td>\n",
       "      <td>26600.0</td>\n",
       "    </tr>\n",
       "    <tr>\n",
       "      <th>5780</th>\n",
       "      <td>2020-06-25</td>\n",
       "      <td>34525.390625</td>\n",
       "      <td>35081.609375</td>\n",
       "      <td>34499.781250</td>\n",
       "      <td>34842.101563</td>\n",
       "      <td>34842.101563</td>\n",
       "      <td>24600.0</td>\n",
       "    </tr>\n",
       "    <tr>\n",
       "      <th>5781</th>\n",
       "      <td>2020-06-26</td>\n",
       "      <td>35144.781250</td>\n",
       "      <td>35254.878906</td>\n",
       "      <td>34910.339844</td>\n",
       "      <td>35171.269531</td>\n",
       "      <td>35171.269531</td>\n",
       "      <td>24800.0</td>\n",
       "    </tr>\n",
       "    <tr>\n",
       "      <th>5782</th>\n",
       "      <td>2020-06-29</td>\n",
       "      <td>34926.949219</td>\n",
       "      <td>35032.359375</td>\n",
       "      <td>34662.058594</td>\n",
       "      <td>34961.519531</td>\n",
       "      <td>34961.519531</td>\n",
       "      <td>18300.0</td>\n",
       "    </tr>\n",
       "    <tr>\n",
       "      <th>5783</th>\n",
       "      <td>2020-06-30</td>\n",
       "      <td>35168.300781</td>\n",
       "      <td>35233.910156</td>\n",
       "      <td>34812.800781</td>\n",
       "      <td>34915.800781</td>\n",
       "      <td>34915.800781</td>\n",
       "      <td>18500.0</td>\n",
       "    </tr>\n",
       "  </tbody>\n",
       "</table>\n",
       "<p>1154 rows × 7 columns</p>\n",
       "</div>"
      ],
      "text/plain": [
       "           Date          Open          High           Low         Close  \\\n",
       "4630 2015-10-19  27305.619141  27387.910156  27246.789063  27364.919922   \n",
       "4631 2015-10-20  27402.900391  27432.070313  27216.400391  27306.830078   \n",
       "4632 2015-10-21  27312.349609  27445.240234  27190.550781  27287.660156   \n",
       "4633 2015-10-23  27466.640625  27555.060547  27421.710938  27470.810547   \n",
       "4634 2015-10-26  27575.039063  27618.140625  27318.199219  27361.960938   \n",
       "...         ...           ...           ...           ...           ...   \n",
       "5779 2020-06-24  35679.738281  35706.550781  34794.929688  34868.980469   \n",
       "5780 2020-06-25  34525.390625  35081.609375  34499.781250  34842.101563   \n",
       "5781 2020-06-26  35144.781250  35254.878906  34910.339844  35171.269531   \n",
       "5782 2020-06-29  34926.949219  35032.359375  34662.058594  34961.519531   \n",
       "5783 2020-06-30  35168.300781  35233.910156  34812.800781  34915.800781   \n",
       "\n",
       "         Adj Close   Volume  \n",
       "4630  27364.919922   8200.0  \n",
       "4631  27306.830078   9200.0  \n",
       "4632  27287.660156   9700.0  \n",
       "4633  27470.810547   9900.0  \n",
       "4634  27361.960938  11300.0  \n",
       "...            ...      ...  \n",
       "5779  34868.980469  26600.0  \n",
       "5780  34842.101563  24600.0  \n",
       "5781  35171.269531  24800.0  \n",
       "5782  34961.519531  18300.0  \n",
       "5783  34915.800781  18500.0  \n",
       "\n",
       "[1154 rows x 7 columns]"
      ]
     },
     "execution_count": 45,
     "metadata": {},
     "output_type": "execute_result"
    }
   ],
   "source": [
    "Data_news = data[(data['Date']>='2015-10-19')&(data['Date']<='2020-06-30')]\n",
    "Data_news"
   ]
  },
  {
   "cell_type": "code",
   "execution_count": 46,
   "metadata": {
    "colab": {
     "base_uri": "https://localhost:8080/"
    },
    "id": "PTXE7k8cT51s",
    "outputId": "ca5b785d-68d8-423b-fe5d-2327e5e91809"
   },
   "outputs": [
    {
     "data": {
      "text/plain": [
       "(1154, 7)"
      ]
     },
     "execution_count": 46,
     "metadata": {},
     "output_type": "execute_result"
    }
   ],
   "source": [
    "Data_news.shape"
   ]
  },
  {
   "cell_type": "code",
   "execution_count": 47,
   "metadata": {
    "colab": {
     "base_uri": "https://localhost:8080/",
     "height": 621
    },
    "id": "-PGe9tfBT7lf",
    "outputId": "b4985b21-f109-4e13-adf6-ca777e82c9c2"
   },
   "outputs": [
    {
     "data": {
      "text/plain": [
       "<AxesSubplot:>"
      ]
     },
     "execution_count": 47,
     "metadata": {},
     "output_type": "execute_result"
    },
    {
     "data": {
      "image/png": "[encoded data removed]",
      "text/plain": [
       "<Figure size 1440x720 with 1 Axes>"
      ]
     },
     "metadata": {},
     "output_type": "display_data"
    }
   ],
   "source": [
    "Data_news[['High','Low','Open','Close']].plot(figsize=(20,10))"
   ]
  },
  {
   "cell_type": "code",
   "execution_count": 48,
   "metadata": {
    "colab": {
     "base_uri": "https://localhost:8080/",
     "height": 640
    },
    "id": "SdTeiFNcT_R-",
    "outputId": "0debcb72-5dc2-4a16-c992-9db2465370ab"
   },
   "outputs": [
    {
     "data": {
      "text/plain": [
       "<AxesSubplot:>"
      ]
     },
     "execution_count": 48,
     "metadata": {},
     "output_type": "execute_result"
    },
    {
     "data": {
      "image/png": "[encoded data removed]",
      "text/plain": [
       "<Figure size 1440x720 with 1 Axes>"
      ]
     },
     "metadata": {},
     "output_type": "display_data"
    }
   ],
   "source": [
    "Data_news['Volume'].plot(figsize=(20,10))"
   ]
  },
  {
   "cell_type": "code",
   "execution_count": 49,
   "metadata": {
    "colab": {
     "base_uri": "https://localhost:8080/",
     "height": 637
    },
    "id": "sOA28uf2UB35",
    "outputId": "4fe12dbb-4130-4283-a45d-3c4946697e39"
   },
   "outputs": [
    {
     "data": {
      "text/html": [
       "<div>\n",
       "<style scoped>\n",
       "    .dataframe tbody tr th:only-of-type {\n",
       "        vertical-align: middle;\n",
       "    }\n",
       "\n",
       "    .dataframe tbody tr th {\n",
       "        vertical-align: top;\n",
       "    }\n",
       "\n",
       "    .dataframe thead th {\n",
       "        text-align: right;\n",
       "    }\n",
       "</style>\n",
       "<table border=\"1\" class=\"dataframe\">\n",
       "  <thead>\n",
       "    <tr style=\"text-align: right;\">\n",
       "      <th></th>\n",
       "      <th>Date</th>\n",
       "      <th>headline_text</th>\n",
       "      <th>word_count</th>\n",
       "      <th>char_count</th>\n",
       "      <th>avg_word</th>\n",
       "      <th>stopwords</th>\n",
       "      <th>numerics</th>\n",
       "      <th>upper</th>\n",
       "      <th>sentiment</th>\n",
       "      <th>Open</th>\n",
       "      <th>High</th>\n",
       "      <th>Low</th>\n",
       "      <th>Close</th>\n",
       "      <th>Adj Close</th>\n",
       "      <th>Volume</th>\n",
       "    </tr>\n",
       "  </thead>\n",
       "  <tbody>\n",
       "    <tr>\n",
       "      <th>0</th>\n",
       "      <td>2015-10-19</td>\n",
       "      <td>heres calm monday 5 minutes pics 7 super ways ...</td>\n",
       "      <td>5467</td>\n",
       "      <td>34147</td>\n",
       "      <td>5.246204</td>\n",
       "      <td>1118</td>\n",
       "      <td>81</td>\n",
       "      <td>202</td>\n",
       "      <td>0.089433</td>\n",
       "      <td>27305.619141</td>\n",
       "      <td>27387.910156</td>\n",
       "      <td>27246.789063</td>\n",
       "      <td>27364.919922</td>\n",
       "      <td>27364.919922</td>\n",
       "      <td>8200.0</td>\n",
       "    </tr>\n",
       "    <tr>\n",
       "      <th>1</th>\n",
       "      <td>2015-10-20</td>\n",
       "      <td>much water drink every day ways identify diffe...</td>\n",
       "      <td>5774</td>\n",
       "      <td>35830</td>\n",
       "      <td>5.205577</td>\n",
       "      <td>1216</td>\n",
       "      <td>75</td>\n",
       "      <td>257</td>\n",
       "      <td>0.045460</td>\n",
       "      <td>27402.900391</td>\n",
       "      <td>27432.070313</td>\n",
       "      <td>27216.400391</td>\n",
       "      <td>27306.830078</td>\n",
       "      <td>27306.830078</td>\n",
       "      <td>9200.0</td>\n",
       "    </tr>\n",
       "    <tr>\n",
       "      <th>2</th>\n",
       "      <td>2015-10-21</td>\n",
       "      <td>find pleasure spots pak singers faced criticis...</td>\n",
       "      <td>5672</td>\n",
       "      <td>34863</td>\n",
       "      <td>5.146685</td>\n",
       "      <td>1216</td>\n",
       "      <td>86</td>\n",
       "      <td>247</td>\n",
       "      <td>0.087048</td>\n",
       "      <td>27312.349609</td>\n",
       "      <td>27445.240234</td>\n",
       "      <td>27190.550781</td>\n",
       "      <td>27287.660156</td>\n",
       "      <td>27287.660156</td>\n",
       "      <td>9700.0</td>\n",
       "    </tr>\n",
       "    <tr>\n",
       "      <th>3</th>\n",
       "      <td>2015-10-23</td>\n",
       "      <td>beat bloating feeling 10 alternate treatments ...</td>\n",
       "      <td>5732</td>\n",
       "      <td>35645</td>\n",
       "      <td>5.218772</td>\n",
       "      <td>1196</td>\n",
       "      <td>94</td>\n",
       "      <td>228</td>\n",
       "      <td>0.053181</td>\n",
       "      <td>27466.640625</td>\n",
       "      <td>27555.060547</td>\n",
       "      <td>27421.710938</td>\n",
       "      <td>27470.810547</td>\n",
       "      <td>27470.810547</td>\n",
       "      <td>9900.0</td>\n",
       "    </tr>\n",
       "    <tr>\n",
       "      <th>4</th>\n",
       "      <td>2015-10-26</td>\n",
       "      <td>7 worst sexual fears men dos donts diabetics n...</td>\n",
       "      <td>5575</td>\n",
       "      <td>34314</td>\n",
       "      <td>5.155157</td>\n",
       "      <td>1160</td>\n",
       "      <td>79</td>\n",
       "      <td>246</td>\n",
       "      <td>0.096162</td>\n",
       "      <td>27575.039063</td>\n",
       "      <td>27618.140625</td>\n",
       "      <td>27318.199219</td>\n",
       "      <td>27361.960938</td>\n",
       "      <td>27361.960938</td>\n",
       "      <td>11300.0</td>\n",
       "    </tr>\n",
       "    <tr>\n",
       "      <th>...</th>\n",
       "      <td>...</td>\n",
       "      <td>...</td>\n",
       "      <td>...</td>\n",
       "      <td>...</td>\n",
       "      <td>...</td>\n",
       "      <td>...</td>\n",
       "      <td>...</td>\n",
       "      <td>...</td>\n",
       "      <td>...</td>\n",
       "      <td>...</td>\n",
       "      <td>...</td>\n",
       "      <td>...</td>\n",
       "      <td>...</td>\n",
       "      <td>...</td>\n",
       "      <td>...</td>\n",
       "    </tr>\n",
       "    <tr>\n",
       "      <th>1149</th>\n",
       "      <td>2020-06-24</td>\n",
       "      <td>never thought voice today vidya rajput never t...</td>\n",
       "      <td>4503</td>\n",
       "      <td>28022</td>\n",
       "      <td>5.223185</td>\n",
       "      <td>842</td>\n",
       "      <td>95</td>\n",
       "      <td>193</td>\n",
       "      <td>0.064382</td>\n",
       "      <td>35679.738281</td>\n",
       "      <td>35706.550781</td>\n",
       "      <td>34794.929688</td>\n",
       "      <td>34868.980469</td>\n",
       "      <td>34868.980469</td>\n",
       "      <td>26600.0</td>\n",
       "    </tr>\n",
       "    <tr>\n",
       "      <th>1150</th>\n",
       "      <td>2020-06-25</td>\n",
       "      <td>truck firms look export markets sell bs6 range...</td>\n",
       "      <td>4507</td>\n",
       "      <td>27935</td>\n",
       "      <td>5.198358</td>\n",
       "      <td>883</td>\n",
       "      <td>109</td>\n",
       "      <td>167</td>\n",
       "      <td>-0.011207</td>\n",
       "      <td>34525.390625</td>\n",
       "      <td>35081.609375</td>\n",
       "      <td>34499.781250</td>\n",
       "      <td>34842.101563</td>\n",
       "      <td>34842.101563</td>\n",
       "      <td>24600.0</td>\n",
       "    </tr>\n",
       "    <tr>\n",
       "      <th>1151</th>\n",
       "      <td>2020-06-26</td>\n",
       "      <td>containment zone residents slam high prices ch...</td>\n",
       "      <td>4508</td>\n",
       "      <td>28026</td>\n",
       "      <td>5.217169</td>\n",
       "      <td>884</td>\n",
       "      <td>100</td>\n",
       "      <td>185</td>\n",
       "      <td>0.039440</td>\n",
       "      <td>35144.781250</td>\n",
       "      <td>35254.878906</td>\n",
       "      <td>34910.339844</td>\n",
       "      <td>35171.269531</td>\n",
       "      <td>35171.269531</td>\n",
       "      <td>24800.0</td>\n",
       "    </tr>\n",
       "    <tr>\n",
       "      <th>1152</th>\n",
       "      <td>2020-06-29</td>\n",
       "      <td>6 hot stylish bikini looks katrina kaif anna e...</td>\n",
       "      <td>4572</td>\n",
       "      <td>28443</td>\n",
       "      <td>5.221347</td>\n",
       "      <td>930</td>\n",
       "      <td>125</td>\n",
       "      <td>156</td>\n",
       "      <td>0.034411</td>\n",
       "      <td>34926.949219</td>\n",
       "      <td>35032.359375</td>\n",
       "      <td>34662.058594</td>\n",
       "      <td>34961.519531</td>\n",
       "      <td>34961.519531</td>\n",
       "      <td>18300.0</td>\n",
       "    </tr>\n",
       "    <tr>\n",
       "      <th>1153</th>\n",
       "      <td>2020-06-30</td>\n",
       "      <td>monday blues officegoers diesel price climbs 7...</td>\n",
       "      <td>4442</td>\n",
       "      <td>27569</td>\n",
       "      <td>5.206664</td>\n",
       "      <td>876</td>\n",
       "      <td>117</td>\n",
       "      <td>153</td>\n",
       "      <td>0.040739</td>\n",
       "      <td>35168.300781</td>\n",
       "      <td>35233.910156</td>\n",
       "      <td>34812.800781</td>\n",
       "      <td>34915.800781</td>\n",
       "      <td>34915.800781</td>\n",
       "      <td>18500.0</td>\n",
       "    </tr>\n",
       "  </tbody>\n",
       "</table>\n",
       "<p>1154 rows × 15 columns</p>\n",
       "</div>"
      ],
      "text/plain": [
       "           Date                                      headline_text  \\\n",
       "0    2015-10-19  heres calm monday 5 minutes pics 7 super ways ...   \n",
       "1    2015-10-20  much water drink every day ways identify diffe...   \n",
       "2    2015-10-21  find pleasure spots pak singers faced criticis...   \n",
       "3    2015-10-23  beat bloating feeling 10 alternate treatments ...   \n",
       "4    2015-10-26  7 worst sexual fears men dos donts diabetics n...   \n",
       "...         ...                                                ...   \n",
       "1149 2020-06-24  never thought voice today vidya rajput never t...   \n",
       "1150 2020-06-25  truck firms look export markets sell bs6 range...   \n",
       "1151 2020-06-26  containment zone residents slam high prices ch...   \n",
       "1152 2020-06-29  6 hot stylish bikini looks katrina kaif anna e...   \n",
       "1153 2020-06-30  monday blues officegoers diesel price climbs 7...   \n",
       "\n",
       "      word_count  char_count  avg_word  stopwords  numerics  upper  sentiment  \\\n",
       "0           5467       34147  5.246204       1118        81    202   0.089433   \n",
       "1           5774       35830  5.205577       1216        75    257   0.045460   \n",
       "2           5672       34863  5.146685       1216        86    247   0.087048   \n",
       "3           5732       35645  5.218772       1196        94    228   0.053181   \n",
       "4           5575       34314  5.155157       1160        79    246   0.096162   \n",
       "...          ...         ...       ...        ...       ...    ...        ...   \n",
       "1149        4503       28022  5.223185        842        95    193   0.064382   \n",
       "1150        4507       27935  5.198358        883       109    167  -0.011207   \n",
       "1151        4508       28026  5.217169        884       100    185   0.039440   \n",
       "1152        4572       28443  5.221347        930       125    156   0.034411   \n",
       "1153        4442       27569  5.206664        876       117    153   0.040739   \n",
       "\n",
       "              Open          High           Low         Close     Adj Close  \\\n",
       "0     27305.619141  27387.910156  27246.789063  27364.919922  27364.919922   \n",
       "1     27402.900391  27432.070313  27216.400391  27306.830078  27306.830078   \n",
       "2     27312.349609  27445.240234  27190.550781  27287.660156  27287.660156   \n",
       "3     27466.640625  27555.060547  27421.710938  27470.810547  27470.810547   \n",
       "4     27575.039063  27618.140625  27318.199219  27361.960938  27361.960938   \n",
       "...            ...           ...           ...           ...           ...   \n",
       "1149  35679.738281  35706.550781  34794.929688  34868.980469  34868.980469   \n",
       "1150  34525.390625  35081.609375  34499.781250  34842.101563  34842.101563   \n",
       "1151  35144.781250  35254.878906  34910.339844  35171.269531  35171.269531   \n",
       "1152  34926.949219  35032.359375  34662.058594  34961.519531  34961.519531   \n",
       "1153  35168.300781  35233.910156  34812.800781  34915.800781  34915.800781   \n",
       "\n",
       "       Volume  \n",
       "0      8200.0  \n",
       "1      9200.0  \n",
       "2      9700.0  \n",
       "3      9900.0  \n",
       "4     11300.0  \n",
       "...       ...  \n",
       "1149  26600.0  \n",
       "1150  24600.0  \n",
       "1151  24800.0  \n",
       "1152  18300.0  \n",
       "1153  18500.0  \n",
       "\n",
       "[1154 rows x 15 columns]"
      ]
     },
     "execution_count": 49,
     "metadata": {},
     "output_type": "execute_result"
    }
   ],
   "source": [
    "DataMerge = pd.merge(Data,Data_news,on='Date',how='right')\n",
    "DataMerge"
   ]
  },
  {
   "cell_type": "code",
   "execution_count": 50,
   "metadata": {
    "colab": {
     "base_uri": "https://localhost:8080/",
     "height": 637
    },
    "id": "hFgEKKg6UGHW",
    "outputId": "e6829047-a136-4a36-e692-2542e0311778"
   },
   "outputs": [
    {
     "data": {
      "text/html": [
       "<div>\n",
       "<style scoped>\n",
       "    .dataframe tbody tr th:only-of-type {\n",
       "        vertical-align: middle;\n",
       "    }\n",
       "\n",
       "    .dataframe tbody tr th {\n",
       "        vertical-align: top;\n",
       "    }\n",
       "\n",
       "    .dataframe thead th {\n",
       "        text-align: right;\n",
       "    }\n",
       "</style>\n",
       "<table border=\"1\" class=\"dataframe\">\n",
       "  <thead>\n",
       "    <tr style=\"text-align: right;\">\n",
       "      <th></th>\n",
       "      <th>Date</th>\n",
       "      <th>headline_text</th>\n",
       "      <th>word_count</th>\n",
       "      <th>char_count</th>\n",
       "      <th>avg_word</th>\n",
       "      <th>stopwords</th>\n",
       "      <th>numerics</th>\n",
       "      <th>upper</th>\n",
       "      <th>sentiment</th>\n",
       "      <th>Open</th>\n",
       "      <th>High</th>\n",
       "      <th>Low</th>\n",
       "      <th>Close</th>\n",
       "      <th>Adj Close</th>\n",
       "      <th>Volume</th>\n",
       "    </tr>\n",
       "  </thead>\n",
       "  <tbody>\n",
       "    <tr>\n",
       "      <th>0</th>\n",
       "      <td>2015-10-19</td>\n",
       "      <td>heres calm monday 5 minutes pics 7 super ways ...</td>\n",
       "      <td>5467</td>\n",
       "      <td>34147</td>\n",
       "      <td>5.246204</td>\n",
       "      <td>1118</td>\n",
       "      <td>81</td>\n",
       "      <td>202</td>\n",
       "      <td>0.089433</td>\n",
       "      <td>27305.619141</td>\n",
       "      <td>27387.910156</td>\n",
       "      <td>27246.789063</td>\n",
       "      <td>27364.919922</td>\n",
       "      <td>27364.919922</td>\n",
       "      <td>8200.0</td>\n",
       "    </tr>\n",
       "    <tr>\n",
       "      <th>1</th>\n",
       "      <td>2015-10-20</td>\n",
       "      <td>much water drink every day ways identify diffe...</td>\n",
       "      <td>5774</td>\n",
       "      <td>35830</td>\n",
       "      <td>5.205577</td>\n",
       "      <td>1216</td>\n",
       "      <td>75</td>\n",
       "      <td>257</td>\n",
       "      <td>0.045460</td>\n",
       "      <td>27402.900391</td>\n",
       "      <td>27432.070313</td>\n",
       "      <td>27216.400391</td>\n",
       "      <td>27306.830078</td>\n",
       "      <td>27306.830078</td>\n",
       "      <td>9200.0</td>\n",
       "    </tr>\n",
       "    <tr>\n",
       "      <th>2</th>\n",
       "      <td>2015-10-21</td>\n",
       "      <td>find pleasure spots pak singers faced criticis...</td>\n",
       "      <td>5672</td>\n",
       "      <td>34863</td>\n",
       "      <td>5.146685</td>\n",
       "      <td>1216</td>\n",
       "      <td>86</td>\n",
       "      <td>247</td>\n",
       "      <td>0.087048</td>\n",
       "      <td>27312.349609</td>\n",
       "      <td>27445.240234</td>\n",
       "      <td>27190.550781</td>\n",
       "      <td>27287.660156</td>\n",
       "      <td>27287.660156</td>\n",
       "      <td>9700.0</td>\n",
       "    </tr>\n",
       "    <tr>\n",
       "      <th>3</th>\n",
       "      <td>2015-10-23</td>\n",
       "      <td>beat bloating feeling 10 alternate treatments ...</td>\n",
       "      <td>5732</td>\n",
       "      <td>35645</td>\n",
       "      <td>5.218772</td>\n",
       "      <td>1196</td>\n",
       "      <td>94</td>\n",
       "      <td>228</td>\n",
       "      <td>0.053181</td>\n",
       "      <td>27466.640625</td>\n",
       "      <td>27555.060547</td>\n",
       "      <td>27421.710938</td>\n",
       "      <td>27470.810547</td>\n",
       "      <td>27470.810547</td>\n",
       "      <td>9900.0</td>\n",
       "    </tr>\n",
       "    <tr>\n",
       "      <th>4</th>\n",
       "      <td>2015-10-26</td>\n",
       "      <td>7 worst sexual fears men dos donts diabetics n...</td>\n",
       "      <td>5575</td>\n",
       "      <td>34314</td>\n",
       "      <td>5.155157</td>\n",
       "      <td>1160</td>\n",
       "      <td>79</td>\n",
       "      <td>246</td>\n",
       "      <td>0.096162</td>\n",
       "      <td>27575.039063</td>\n",
       "      <td>27618.140625</td>\n",
       "      <td>27318.199219</td>\n",
       "      <td>27361.960938</td>\n",
       "      <td>27361.960938</td>\n",
       "      <td>11300.0</td>\n",
       "    </tr>\n",
       "    <tr>\n",
       "      <th>...</th>\n",
       "      <td>...</td>\n",
       "      <td>...</td>\n",
       "      <td>...</td>\n",
       "      <td>...</td>\n",
       "      <td>...</td>\n",
       "      <td>...</td>\n",
       "      <td>...</td>\n",
       "      <td>...</td>\n",
       "      <td>...</td>\n",
       "      <td>...</td>\n",
       "      <td>...</td>\n",
       "      <td>...</td>\n",
       "      <td>...</td>\n",
       "      <td>...</td>\n",
       "      <td>...</td>\n",
       "    </tr>\n",
       "    <tr>\n",
       "      <th>1149</th>\n",
       "      <td>2020-06-24</td>\n",
       "      <td>never thought voice today vidya rajput never t...</td>\n",
       "      <td>4503</td>\n",
       "      <td>28022</td>\n",
       "      <td>5.223185</td>\n",
       "      <td>842</td>\n",
       "      <td>95</td>\n",
       "      <td>193</td>\n",
       "      <td>0.064382</td>\n",
       "      <td>35679.738281</td>\n",
       "      <td>35706.550781</td>\n",
       "      <td>34794.929688</td>\n",
       "      <td>34868.980469</td>\n",
       "      <td>34868.980469</td>\n",
       "      <td>26600.0</td>\n",
       "    </tr>\n",
       "    <tr>\n",
       "      <th>1150</th>\n",
       "      <td>2020-06-25</td>\n",
       "      <td>truck firms look export markets sell bs6 range...</td>\n",
       "      <td>4507</td>\n",
       "      <td>27935</td>\n",
       "      <td>5.198358</td>\n",
       "      <td>883</td>\n",
       "      <td>109</td>\n",
       "      <td>167</td>\n",
       "      <td>-0.011207</td>\n",
       "      <td>34525.390625</td>\n",
       "      <td>35081.609375</td>\n",
       "      <td>34499.781250</td>\n",
       "      <td>34842.101563</td>\n",
       "      <td>34842.101563</td>\n",
       "      <td>24600.0</td>\n",
       "    </tr>\n",
       "    <tr>\n",
       "      <th>1151</th>\n",
       "      <td>2020-06-26</td>\n",
       "      <td>containment zone residents slam high prices ch...</td>\n",
       "      <td>4508</td>\n",
       "      <td>28026</td>\n",
       "      <td>5.217169</td>\n",
       "      <td>884</td>\n",
       "      <td>100</td>\n",
       "      <td>185</td>\n",
       "      <td>0.039440</td>\n",
       "      <td>35144.781250</td>\n",
       "      <td>35254.878906</td>\n",
       "      <td>34910.339844</td>\n",
       "      <td>35171.269531</td>\n",
       "      <td>35171.269531</td>\n",
       "      <td>24800.0</td>\n",
       "    </tr>\n",
       "    <tr>\n",
       "      <th>1152</th>\n",
       "      <td>2020-06-29</td>\n",
       "      <td>6 hot stylish bikini looks katrina kaif anna e...</td>\n",
       "      <td>4572</td>\n",
       "      <td>28443</td>\n",
       "      <td>5.221347</td>\n",
       "      <td>930</td>\n",
       "      <td>125</td>\n",
       "      <td>156</td>\n",
       "      <td>0.034411</td>\n",
       "      <td>34926.949219</td>\n",
       "      <td>35032.359375</td>\n",
       "      <td>34662.058594</td>\n",
       "      <td>34961.519531</td>\n",
       "      <td>34961.519531</td>\n",
       "      <td>18300.0</td>\n",
       "    </tr>\n",
       "    <tr>\n",
       "      <th>1153</th>\n",
       "      <td>2020-06-30</td>\n",
       "      <td>monday blues officegoers diesel price climbs 7...</td>\n",
       "      <td>4442</td>\n",
       "      <td>27569</td>\n",
       "      <td>5.206664</td>\n",
       "      <td>876</td>\n",
       "      <td>117</td>\n",
       "      <td>153</td>\n",
       "      <td>0.040739</td>\n",
       "      <td>35168.300781</td>\n",
       "      <td>35233.910156</td>\n",
       "      <td>34812.800781</td>\n",
       "      <td>34915.800781</td>\n",
       "      <td>34915.800781</td>\n",
       "      <td>18500.0</td>\n",
       "    </tr>\n",
       "  </tbody>\n",
       "</table>\n",
       "<p>1150 rows × 15 columns</p>\n",
       "</div>"
      ],
      "text/plain": [
       "           Date                                      headline_text  \\\n",
       "0    2015-10-19  heres calm monday 5 minutes pics 7 super ways ...   \n",
       "1    2015-10-20  much water drink every day ways identify diffe...   \n",
       "2    2015-10-21  find pleasure spots pak singers faced criticis...   \n",
       "3    2015-10-23  beat bloating feeling 10 alternate treatments ...   \n",
       "4    2015-10-26  7 worst sexual fears men dos donts diabetics n...   \n",
       "...         ...                                                ...   \n",
       "1149 2020-06-24  never thought voice today vidya rajput never t...   \n",
       "1150 2020-06-25  truck firms look export markets sell bs6 range...   \n",
       "1151 2020-06-26  containment zone residents slam high prices ch...   \n",
       "1152 2020-06-29  6 hot stylish bikini looks katrina kaif anna e...   \n",
       "1153 2020-06-30  monday blues officegoers diesel price climbs 7...   \n",
       "\n",
       "      word_count  char_count  avg_word  stopwords  numerics  upper  sentiment  \\\n",
       "0           5467       34147  5.246204       1118        81    202   0.089433   \n",
       "1           5774       35830  5.205577       1216        75    257   0.045460   \n",
       "2           5672       34863  5.146685       1216        86    247   0.087048   \n",
       "3           5732       35645  5.218772       1196        94    228   0.053181   \n",
       "4           5575       34314  5.155157       1160        79    246   0.096162   \n",
       "...          ...         ...       ...        ...       ...    ...        ...   \n",
       "1149        4503       28022  5.223185        842        95    193   0.064382   \n",
       "1150        4507       27935  5.198358        883       109    167  -0.011207   \n",
       "1151        4508       28026  5.217169        884       100    185   0.039440   \n",
       "1152        4572       28443  5.221347        930       125    156   0.034411   \n",
       "1153        4442       27569  5.206664        876       117    153   0.040739   \n",
       "\n",
       "              Open          High           Low         Close     Adj Close  \\\n",
       "0     27305.619141  27387.910156  27246.789063  27364.919922  27364.919922   \n",
       "1     27402.900391  27432.070313  27216.400391  27306.830078  27306.830078   \n",
       "2     27312.349609  27445.240234  27190.550781  27287.660156  27287.660156   \n",
       "3     27466.640625  27555.060547  27421.710938  27470.810547  27470.810547   \n",
       "4     27575.039063  27618.140625  27318.199219  27361.960938  27361.960938   \n",
       "...            ...           ...           ...           ...           ...   \n",
       "1149  35679.738281  35706.550781  34794.929688  34868.980469  34868.980469   \n",
       "1150  34525.390625  35081.609375  34499.781250  34842.101563  34842.101563   \n",
       "1151  35144.781250  35254.878906  34910.339844  35171.269531  35171.269531   \n",
       "1152  34926.949219  35032.359375  34662.058594  34961.519531  34961.519531   \n",
       "1153  35168.300781  35233.910156  34812.800781  34915.800781  34915.800781   \n",
       "\n",
       "       Volume  \n",
       "0      8200.0  \n",
       "1      9200.0  \n",
       "2      9700.0  \n",
       "3      9900.0  \n",
       "4     11300.0  \n",
       "...       ...  \n",
       "1149  26600.0  \n",
       "1150  24600.0  \n",
       "1151  24800.0  \n",
       "1152  18300.0  \n",
       "1153  18500.0  \n",
       "\n",
       "[1150 rows x 15 columns]"
      ]
     },
     "execution_count": 50,
     "metadata": {},
     "output_type": "execute_result"
    }
   ],
   "source": [
    "DataMerge.dropna()"
   ]
  },
  {
   "cell_type": "code",
   "execution_count": 51,
   "metadata": {
    "colab": {
     "base_uri": "https://localhost:8080/"
    },
    "id": "52zoCFf5UJkY",
    "outputId": "c140bcf9-cef6-4857-e145-6802d616314d"
   },
   "outputs": [
    {
     "name": "stdout",
     "output_type": "stream",
     "text": [
      "Dimension:(1154, 15) \n",
      "\n",
      "Size:17310 \n",
      "\n",
      "Duplicated Values:0 \n",
      "\n",
      "Rows with null values:Date             0\n",
      "headline_text    0\n",
      "word_count       0\n",
      "char_count       0\n",
      "avg_word         0\n",
      "stopwords        0\n",
      "numerics         0\n",
      "upper            0\n",
      "sentiment        0\n",
      "Open             4\n",
      "High             4\n",
      "Low              4\n",
      "Close            4\n",
      "Adj Close        4\n",
      "Volume           4\n",
      "dtype: int64 \n",
      "\n",
      "Info of Dataset:\n",
      "\n",
      "<class 'pandas.core.frame.DataFrame'>\n",
      "Int64Index: 1154 entries, 0 to 1153\n",
      "Data columns (total 15 columns):\n",
      " #   Column         Non-Null Count  Dtype         \n",
      "---  ------         --------------  -----         \n",
      " 0   Date           1154 non-null   datetime64[ns]\n",
      " 1   headline_text  1154 non-null   object        \n",
      " 2   word_count     1154 non-null   int64         \n",
      " 3   char_count     1154 non-null   int64         \n",
      " 4   avg_word       1154 non-null   float64       \n",
      " 5   stopwords      1154 non-null   int64         \n",
      " 6   numerics       1154 non-null   int64         \n",
      " 7   upper          1154 non-null   int64         \n",
      " 8   sentiment      1154 non-null   float64       \n",
      " 9   Open           1150 non-null   float64       \n",
      " 10  High           1150 non-null   float64       \n",
      " 11  Low            1150 non-null   float64       \n",
      " 12  Close          1150 non-null   float64       \n",
      " 13  Adj Close      1150 non-null   float64       \n",
      " 14  Volume         1150 non-null   float64       \n",
      "dtypes: datetime64[ns](1), float64(8), int64(5), object(1)\n",
      "memory usage: 144.2+ KB\n",
      "None \n",
      "\n"
     ]
    }
   ],
   "source": [
    "print(\"Dimension:{}\".format(DataMerge.shape),\"\\n\")\n",
    "print(\"Size:{}\".format(DataMerge.size),\"\\n\")\n",
    "print(\"Duplicated Values:{}\".format(DataMerge.duplicated().sum()),\"\\n\")\n",
    "print(\"Rows with null values:{}\".format(DataMerge.isnull().sum()),\"\\n\")\n",
    "print(\"Info of Dataset:\\n\")\n",
    "print(DataMerge.info(),'\\n')"
   ]
  },
  {
   "cell_type": "code",
   "execution_count": 52,
   "metadata": {
    "id": "_FyHA1l_UNY_"
   },
   "outputs": [],
   "source": [
    "DataMerge = DataMerge.dropna(how='any',axis=0)"
   ]
  },
  {
   "cell_type": "code",
   "execution_count": 53,
   "metadata": {
    "colab": {
     "base_uri": "https://localhost:8080/"
    },
    "id": "DOaRXGUvURUu",
    "outputId": "485bf5cf-c695-4255-a798-863ea491d183"
   },
   "outputs": [
    {
     "name": "stdout",
     "output_type": "stream",
     "text": [
      "Rows with null values:Date             0\n",
      "headline_text    0\n",
      "word_count       0\n",
      "char_count       0\n",
      "avg_word         0\n",
      "stopwords        0\n",
      "numerics         0\n",
      "upper            0\n",
      "sentiment        0\n",
      "Open             0\n",
      "High             0\n",
      "Low              0\n",
      "Close            0\n",
      "Adj Close        0\n",
      "Volume           0\n",
      "dtype: int64 \n",
      "\n"
     ]
    }
   ],
   "source": [
    "print(\"Rows with null values:{}\".format(DataMerge.isnull().sum()),\"\\n\")"
   ]
  },
  {
   "cell_type": "code",
   "execution_count": 54,
   "metadata": {
    "colab": {
     "base_uri": "https://localhost:8080/"
    },
    "id": "9Ppy2CDQUSi6",
    "outputId": "981bad53-1f2a-4d06-f0c4-4cc96478dd22"
   },
   "outputs": [
    {
     "data": {
      "text/plain": [
       "0"
      ]
     },
     "execution_count": 54,
     "metadata": {},
     "output_type": "execute_result"
    }
   ],
   "source": [
    "DataMerge = DataMerge.drop_duplicates()\n",
    "DataMerge.duplicated().sum()"
   ]
  },
  {
   "cell_type": "code",
   "execution_count": 55,
   "metadata": {
    "colab": {
     "base_uri": "https://localhost:8080/",
     "height": 716
    },
    "id": "bbzzW7ZmUVmv",
    "outputId": "1825d530-00b9-40e1-d1d6-c046d0ea9c3f"
   },
   "outputs": [
    {
     "name": "stderr",
     "output_type": "stream",
     "text": [
      "[nltk_data] Downloading package vader_lexicon to\n",
      "[nltk_data]     C:\\Users\\hp\\AppData\\Roaming\\nltk_data...\n",
      "[nltk_data]   Package vader_lexicon is already up-to-date!\n"
     ]
    },
    {
     "data": {
      "text/html": [
       "<div>\n",
       "<style scoped>\n",
       "    .dataframe tbody tr th:only-of-type {\n",
       "        vertical-align: middle;\n",
       "    }\n",
       "\n",
       "    .dataframe tbody tr th {\n",
       "        vertical-align: top;\n",
       "    }\n",
       "\n",
       "    .dataframe thead th {\n",
       "        text-align: right;\n",
       "    }\n",
       "</style>\n",
       "<table border=\"1\" class=\"dataframe\">\n",
       "  <thead>\n",
       "    <tr style=\"text-align: right;\">\n",
       "      <th></th>\n",
       "      <th>Date</th>\n",
       "      <th>headline_text</th>\n",
       "      <th>word_count</th>\n",
       "      <th>char_count</th>\n",
       "      <th>avg_word</th>\n",
       "      <th>stopwords</th>\n",
       "      <th>numerics</th>\n",
       "      <th>upper</th>\n",
       "      <th>sentiment</th>\n",
       "      <th>Open</th>\n",
       "      <th>High</th>\n",
       "      <th>Low</th>\n",
       "      <th>Close</th>\n",
       "      <th>Adj Close</th>\n",
       "      <th>Volume</th>\n",
       "      <th>scores</th>\n",
       "    </tr>\n",
       "  </thead>\n",
       "  <tbody>\n",
       "    <tr>\n",
       "      <th>0</th>\n",
       "      <td>2015-10-19</td>\n",
       "      <td>heres calm monday 5 minutes pics 7 super ways ...</td>\n",
       "      <td>5467</td>\n",
       "      <td>34147</td>\n",
       "      <td>5.246204</td>\n",
       "      <td>1118</td>\n",
       "      <td>81</td>\n",
       "      <td>202</td>\n",
       "      <td>0.089433</td>\n",
       "      <td>27305.619141</td>\n",
       "      <td>27387.910156</td>\n",
       "      <td>27246.789063</td>\n",
       "      <td>27364.919922</td>\n",
       "      <td>27364.919922</td>\n",
       "      <td>8200.0</td>\n",
       "      <td>{'neg': 0.179, 'neu': 0.698, 'pos': 0.123, 'co...</td>\n",
       "    </tr>\n",
       "    <tr>\n",
       "      <th>1</th>\n",
       "      <td>2015-10-20</td>\n",
       "      <td>much water drink every day ways identify diffe...</td>\n",
       "      <td>5774</td>\n",
       "      <td>35830</td>\n",
       "      <td>5.205577</td>\n",
       "      <td>1216</td>\n",
       "      <td>75</td>\n",
       "      <td>257</td>\n",
       "      <td>0.045460</td>\n",
       "      <td>27402.900391</td>\n",
       "      <td>27432.070313</td>\n",
       "      <td>27216.400391</td>\n",
       "      <td>27306.830078</td>\n",
       "      <td>27306.830078</td>\n",
       "      <td>9200.0</td>\n",
       "      <td>{'neg': 0.171, 'neu': 0.714, 'pos': 0.115, 'co...</td>\n",
       "    </tr>\n",
       "    <tr>\n",
       "      <th>2</th>\n",
       "      <td>2015-10-21</td>\n",
       "      <td>find pleasure spots pak singers faced criticis...</td>\n",
       "      <td>5672</td>\n",
       "      <td>34863</td>\n",
       "      <td>5.146685</td>\n",
       "      <td>1216</td>\n",
       "      <td>86</td>\n",
       "      <td>247</td>\n",
       "      <td>0.087048</td>\n",
       "      <td>27312.349609</td>\n",
       "      <td>27445.240234</td>\n",
       "      <td>27190.550781</td>\n",
       "      <td>27287.660156</td>\n",
       "      <td>27287.660156</td>\n",
       "      <td>9700.0</td>\n",
       "      <td>{'neg': 0.171, 'neu': 0.705, 'pos': 0.124, 'co...</td>\n",
       "    </tr>\n",
       "    <tr>\n",
       "      <th>3</th>\n",
       "      <td>2015-10-23</td>\n",
       "      <td>beat bloating feeling 10 alternate treatments ...</td>\n",
       "      <td>5732</td>\n",
       "      <td>35645</td>\n",
       "      <td>5.218772</td>\n",
       "      <td>1196</td>\n",
       "      <td>94</td>\n",
       "      <td>228</td>\n",
       "      <td>0.053181</td>\n",
       "      <td>27466.640625</td>\n",
       "      <td>27555.060547</td>\n",
       "      <td>27421.710938</td>\n",
       "      <td>27470.810547</td>\n",
       "      <td>27470.810547</td>\n",
       "      <td>9900.0</td>\n",
       "      <td>{'neg': 0.169, 'neu': 0.703, 'pos': 0.128, 'co...</td>\n",
       "    </tr>\n",
       "    <tr>\n",
       "      <th>4</th>\n",
       "      <td>2015-10-26</td>\n",
       "      <td>7 worst sexual fears men dos donts diabetics n...</td>\n",
       "      <td>5575</td>\n",
       "      <td>34314</td>\n",
       "      <td>5.155157</td>\n",
       "      <td>1160</td>\n",
       "      <td>79</td>\n",
       "      <td>246</td>\n",
       "      <td>0.096162</td>\n",
       "      <td>27575.039063</td>\n",
       "      <td>27618.140625</td>\n",
       "      <td>27318.199219</td>\n",
       "      <td>27361.960938</td>\n",
       "      <td>27361.960938</td>\n",
       "      <td>11300.0</td>\n",
       "      <td>{'neg': 0.154, 'neu': 0.715, 'pos': 0.131, 'co...</td>\n",
       "    </tr>\n",
       "  </tbody>\n",
       "</table>\n",
       "</div>"
      ],
      "text/plain": [
       "        Date                                      headline_text  word_count  \\\n",
       "0 2015-10-19  heres calm monday 5 minutes pics 7 super ways ...        5467   \n",
       "1 2015-10-20  much water drink every day ways identify diffe...        5774   \n",
       "2 2015-10-21  find pleasure spots pak singers faced criticis...        5672   \n",
       "3 2015-10-23  beat bloating feeling 10 alternate treatments ...        5732   \n",
       "4 2015-10-26  7 worst sexual fears men dos donts diabetics n...        5575   \n",
       "\n",
       "   char_count  avg_word  stopwords  numerics  upper  sentiment          Open  \\\n",
       "0       34147  5.246204       1118        81    202   0.089433  27305.619141   \n",
       "1       35830  5.205577       1216        75    257   0.045460  27402.900391   \n",
       "2       34863  5.146685       1216        86    247   0.087048  27312.349609   \n",
       "3       35645  5.218772       1196        94    228   0.053181  27466.640625   \n",
       "4       34314  5.155157       1160        79    246   0.096162  27575.039063   \n",
       "\n",
       "           High           Low         Close     Adj Close   Volume  \\\n",
       "0  27387.910156  27246.789063  27364.919922  27364.919922   8200.0   \n",
       "1  27432.070313  27216.400391  27306.830078  27306.830078   9200.0   \n",
       "2  27445.240234  27190.550781  27287.660156  27287.660156   9700.0   \n",
       "3  27555.060547  27421.710938  27470.810547  27470.810547   9900.0   \n",
       "4  27618.140625  27318.199219  27361.960938  27361.960938  11300.0   \n",
       "\n",
       "                                              scores  \n",
       "0  {'neg': 0.179, 'neu': 0.698, 'pos': 0.123, 'co...  \n",
       "1  {'neg': 0.171, 'neu': 0.714, 'pos': 0.115, 'co...  \n",
       "2  {'neg': 0.171, 'neu': 0.705, 'pos': 0.124, 'co...  \n",
       "3  {'neg': 0.169, 'neu': 0.703, 'pos': 0.128, 'co...  \n",
       "4  {'neg': 0.154, 'neu': 0.715, 'pos': 0.131, 'co...  "
      ]
     },
     "execution_count": 55,
     "metadata": {},
     "output_type": "execute_result"
    }
   ],
   "source": [
    "nltk.download('vader_lexicon')\n",
    "df=[]\n",
    "sid = vader()\n",
    "DataMerge['scores'] = DataMerge['headline_text'].apply(lambda x: sid.polarity_scores(x))\n",
    "DataMerge.head()"
   ]
  },
  {
   "cell_type": "code",
   "execution_count": 56,
   "metadata": {
    "id": "TjQ2fwESUX_1"
   },
   "outputs": [],
   "source": [
    "DataMerge['compound'] = DataMerge['scores'].apply(lambda score_dict: score_dict['compound'])\n",
    "DataMerge['pos'] = DataMerge['scores'].apply(lambda score_dict: score_dict['pos'])\n",
    "DataMerge['neg'] = DataMerge['scores'].apply(lambda score_dict: score_dict['neg'])\n",
    "DataMerge['neu'] = DataMerge['scores'].apply(lambda score_dict: score_dict['neu'])"
   ]
  },
  {
   "cell_type": "code",
   "execution_count": 57,
   "metadata": {
    "colab": {
     "base_uri": "https://localhost:8080/",
     "height": 909
    },
    "id": "f_G7F7XAUjUV",
    "outputId": "03d023db-55f2-48b8-c028-da1bf532d1f1"
   },
   "outputs": [
    {
     "data": {
      "text/html": [
       "<div>\n",
       "<style scoped>\n",
       "    .dataframe tbody tr th:only-of-type {\n",
       "        vertical-align: middle;\n",
       "    }\n",
       "\n",
       "    .dataframe tbody tr th {\n",
       "        vertical-align: top;\n",
       "    }\n",
       "\n",
       "    .dataframe thead th {\n",
       "        text-align: right;\n",
       "    }\n",
       "</style>\n",
       "<table border=\"1\" class=\"dataframe\">\n",
       "  <thead>\n",
       "    <tr style=\"text-align: right;\">\n",
       "      <th></th>\n",
       "      <th>Date</th>\n",
       "      <th>headline_text</th>\n",
       "      <th>word_count</th>\n",
       "      <th>char_count</th>\n",
       "      <th>avg_word</th>\n",
       "      <th>stopwords</th>\n",
       "      <th>numerics</th>\n",
       "      <th>upper</th>\n",
       "      <th>sentiment</th>\n",
       "      <th>Open</th>\n",
       "      <th>High</th>\n",
       "      <th>Low</th>\n",
       "      <th>Close</th>\n",
       "      <th>Adj Close</th>\n",
       "      <th>Volume</th>\n",
       "      <th>compound</th>\n",
       "      <th>pos</th>\n",
       "      <th>neg</th>\n",
       "      <th>neu</th>\n",
       "    </tr>\n",
       "  </thead>\n",
       "  <tbody>\n",
       "    <tr>\n",
       "      <th>0</th>\n",
       "      <td>2015-10-19</td>\n",
       "      <td>heres calm monday 5 minutes pics 7 super ways ...</td>\n",
       "      <td>5467</td>\n",
       "      <td>34147</td>\n",
       "      <td>5.246204</td>\n",
       "      <td>1118</td>\n",
       "      <td>81</td>\n",
       "      <td>202</td>\n",
       "      <td>0.089433</td>\n",
       "      <td>27305.619141</td>\n",
       "      <td>27387.910156</td>\n",
       "      <td>27246.789063</td>\n",
       "      <td>27364.919922</td>\n",
       "      <td>27364.919922</td>\n",
       "      <td>8200.0</td>\n",
       "      <td>-0.9998</td>\n",
       "      <td>0.123</td>\n",
       "      <td>0.179</td>\n",
       "      <td>0.698</td>\n",
       "    </tr>\n",
       "    <tr>\n",
       "      <th>1</th>\n",
       "      <td>2015-10-20</td>\n",
       "      <td>much water drink every day ways identify diffe...</td>\n",
       "      <td>5774</td>\n",
       "      <td>35830</td>\n",
       "      <td>5.205577</td>\n",
       "      <td>1216</td>\n",
       "      <td>75</td>\n",
       "      <td>257</td>\n",
       "      <td>0.045460</td>\n",
       "      <td>27402.900391</td>\n",
       "      <td>27432.070313</td>\n",
       "      <td>27216.400391</td>\n",
       "      <td>27306.830078</td>\n",
       "      <td>27306.830078</td>\n",
       "      <td>9200.0</td>\n",
       "      <td>-0.9999</td>\n",
       "      <td>0.115</td>\n",
       "      <td>0.171</td>\n",
       "      <td>0.714</td>\n",
       "    </tr>\n",
       "    <tr>\n",
       "      <th>2</th>\n",
       "      <td>2015-10-21</td>\n",
       "      <td>find pleasure spots pak singers faced criticis...</td>\n",
       "      <td>5672</td>\n",
       "      <td>34863</td>\n",
       "      <td>5.146685</td>\n",
       "      <td>1216</td>\n",
       "      <td>86</td>\n",
       "      <td>247</td>\n",
       "      <td>0.087048</td>\n",
       "      <td>27312.349609</td>\n",
       "      <td>27445.240234</td>\n",
       "      <td>27190.550781</td>\n",
       "      <td>27287.660156</td>\n",
       "      <td>27287.660156</td>\n",
       "      <td>9700.0</td>\n",
       "      <td>-0.9997</td>\n",
       "      <td>0.124</td>\n",
       "      <td>0.171</td>\n",
       "      <td>0.705</td>\n",
       "    </tr>\n",
       "    <tr>\n",
       "      <th>3</th>\n",
       "      <td>2015-10-23</td>\n",
       "      <td>beat bloating feeling 10 alternate treatments ...</td>\n",
       "      <td>5732</td>\n",
       "      <td>35645</td>\n",
       "      <td>5.218772</td>\n",
       "      <td>1196</td>\n",
       "      <td>94</td>\n",
       "      <td>228</td>\n",
       "      <td>0.053181</td>\n",
       "      <td>27466.640625</td>\n",
       "      <td>27555.060547</td>\n",
       "      <td>27421.710938</td>\n",
       "      <td>27470.810547</td>\n",
       "      <td>27470.810547</td>\n",
       "      <td>9900.0</td>\n",
       "      <td>-0.9997</td>\n",
       "      <td>0.128</td>\n",
       "      <td>0.169</td>\n",
       "      <td>0.703</td>\n",
       "    </tr>\n",
       "    <tr>\n",
       "      <th>4</th>\n",
       "      <td>2015-10-26</td>\n",
       "      <td>7 worst sexual fears men dos donts diabetics n...</td>\n",
       "      <td>5575</td>\n",
       "      <td>34314</td>\n",
       "      <td>5.155157</td>\n",
       "      <td>1160</td>\n",
       "      <td>79</td>\n",
       "      <td>246</td>\n",
       "      <td>0.096162</td>\n",
       "      <td>27575.039063</td>\n",
       "      <td>27618.140625</td>\n",
       "      <td>27318.199219</td>\n",
       "      <td>27361.960938</td>\n",
       "      <td>27361.960938</td>\n",
       "      <td>11300.0</td>\n",
       "      <td>-0.9993</td>\n",
       "      <td>0.131</td>\n",
       "      <td>0.154</td>\n",
       "      <td>0.715</td>\n",
       "    </tr>\n",
       "    <tr>\n",
       "      <th>...</th>\n",
       "      <td>...</td>\n",
       "      <td>...</td>\n",
       "      <td>...</td>\n",
       "      <td>...</td>\n",
       "      <td>...</td>\n",
       "      <td>...</td>\n",
       "      <td>...</td>\n",
       "      <td>...</td>\n",
       "      <td>...</td>\n",
       "      <td>...</td>\n",
       "      <td>...</td>\n",
       "      <td>...</td>\n",
       "      <td>...</td>\n",
       "      <td>...</td>\n",
       "      <td>...</td>\n",
       "      <td>...</td>\n",
       "      <td>...</td>\n",
       "      <td>...</td>\n",
       "      <td>...</td>\n",
       "    </tr>\n",
       "    <tr>\n",
       "      <th>1149</th>\n",
       "      <td>2020-06-24</td>\n",
       "      <td>never thought voice today vidya rajput never t...</td>\n",
       "      <td>4503</td>\n",
       "      <td>28022</td>\n",
       "      <td>5.223185</td>\n",
       "      <td>842</td>\n",
       "      <td>95</td>\n",
       "      <td>193</td>\n",
       "      <td>0.064382</td>\n",
       "      <td>35679.738281</td>\n",
       "      <td>35706.550781</td>\n",
       "      <td>34794.929688</td>\n",
       "      <td>34868.980469</td>\n",
       "      <td>34868.980469</td>\n",
       "      <td>26600.0</td>\n",
       "      <td>-0.9997</td>\n",
       "      <td>0.089</td>\n",
       "      <td>0.145</td>\n",
       "      <td>0.765</td>\n",
       "    </tr>\n",
       "    <tr>\n",
       "      <th>1150</th>\n",
       "      <td>2020-06-25</td>\n",
       "      <td>truck firms look export markets sell bs6 range...</td>\n",
       "      <td>4507</td>\n",
       "      <td>27935</td>\n",
       "      <td>5.198358</td>\n",
       "      <td>883</td>\n",
       "      <td>109</td>\n",
       "      <td>167</td>\n",
       "      <td>-0.011207</td>\n",
       "      <td>34525.390625</td>\n",
       "      <td>35081.609375</td>\n",
       "      <td>34499.781250</td>\n",
       "      <td>34842.101563</td>\n",
       "      <td>34842.101563</td>\n",
       "      <td>24600.0</td>\n",
       "      <td>-0.9999</td>\n",
       "      <td>0.077</td>\n",
       "      <td>0.175</td>\n",
       "      <td>0.748</td>\n",
       "    </tr>\n",
       "    <tr>\n",
       "      <th>1151</th>\n",
       "      <td>2020-06-26</td>\n",
       "      <td>containment zone residents slam high prices ch...</td>\n",
       "      <td>4508</td>\n",
       "      <td>28026</td>\n",
       "      <td>5.217169</td>\n",
       "      <td>884</td>\n",
       "      <td>100</td>\n",
       "      <td>185</td>\n",
       "      <td>0.039440</td>\n",
       "      <td>35144.781250</td>\n",
       "      <td>35254.878906</td>\n",
       "      <td>34910.339844</td>\n",
       "      <td>35171.269531</td>\n",
       "      <td>35171.269531</td>\n",
       "      <td>24800.0</td>\n",
       "      <td>-0.9998</td>\n",
       "      <td>0.096</td>\n",
       "      <td>0.163</td>\n",
       "      <td>0.740</td>\n",
       "    </tr>\n",
       "    <tr>\n",
       "      <th>1152</th>\n",
       "      <td>2020-06-29</td>\n",
       "      <td>6 hot stylish bikini looks katrina kaif anna e...</td>\n",
       "      <td>4572</td>\n",
       "      <td>28443</td>\n",
       "      <td>5.221347</td>\n",
       "      <td>930</td>\n",
       "      <td>125</td>\n",
       "      <td>156</td>\n",
       "      <td>0.034411</td>\n",
       "      <td>34926.949219</td>\n",
       "      <td>35032.359375</td>\n",
       "      <td>34662.058594</td>\n",
       "      <td>34961.519531</td>\n",
       "      <td>34961.519531</td>\n",
       "      <td>18300.0</td>\n",
       "      <td>-0.9998</td>\n",
       "      <td>0.092</td>\n",
       "      <td>0.165</td>\n",
       "      <td>0.742</td>\n",
       "    </tr>\n",
       "    <tr>\n",
       "      <th>1153</th>\n",
       "      <td>2020-06-30</td>\n",
       "      <td>monday blues officegoers diesel price climbs 7...</td>\n",
       "      <td>4442</td>\n",
       "      <td>27569</td>\n",
       "      <td>5.206664</td>\n",
       "      <td>876</td>\n",
       "      <td>117</td>\n",
       "      <td>153</td>\n",
       "      <td>0.040739</td>\n",
       "      <td>35168.300781</td>\n",
       "      <td>35233.910156</td>\n",
       "      <td>34812.800781</td>\n",
       "      <td>34915.800781</td>\n",
       "      <td>34915.800781</td>\n",
       "      <td>18500.0</td>\n",
       "      <td>-0.9998</td>\n",
       "      <td>0.077</td>\n",
       "      <td>0.149</td>\n",
       "      <td>0.774</td>\n",
       "    </tr>\n",
       "  </tbody>\n",
       "</table>\n",
       "<p>1150 rows × 19 columns</p>\n",
       "</div>"
      ],
      "text/plain": [
       "           Date                                      headline_text  \\\n",
       "0    2015-10-19  heres calm monday 5 minutes pics 7 super ways ...   \n",
       "1    2015-10-20  much water drink every day ways identify diffe...   \n",
       "2    2015-10-21  find pleasure spots pak singers faced criticis...   \n",
       "3    2015-10-23  beat bloating feeling 10 alternate treatments ...   \n",
       "4    2015-10-26  7 worst sexual fears men dos donts diabetics n...   \n",
       "...         ...                                                ...   \n",
       "1149 2020-06-24  never thought voice today vidya rajput never t...   \n",
       "1150 2020-06-25  truck firms look export markets sell bs6 range...   \n",
       "1151 2020-06-26  containment zone residents slam high prices ch...   \n",
       "1152 2020-06-29  6 hot stylish bikini looks katrina kaif anna e...   \n",
       "1153 2020-06-30  monday blues officegoers diesel price climbs 7...   \n",
       "\n",
       "      word_count  char_count  avg_word  stopwords  numerics  upper  sentiment  \\\n",
       "0           5467       34147  5.246204       1118        81    202   0.089433   \n",
       "1           5774       35830  5.205577       1216        75    257   0.045460   \n",
       "2           5672       34863  5.146685       1216        86    247   0.087048   \n",
       "3           5732       35645  5.218772       1196        94    228   0.053181   \n",
       "4           5575       34314  5.155157       1160        79    246   0.096162   \n",
       "...          ...         ...       ...        ...       ...    ...        ...   \n",
       "1149        4503       28022  5.223185        842        95    193   0.064382   \n",
       "1150        4507       27935  5.198358        883       109    167  -0.011207   \n",
       "1151        4508       28026  5.217169        884       100    185   0.039440   \n",
       "1152        4572       28443  5.221347        930       125    156   0.034411   \n",
       "1153        4442       27569  5.206664        876       117    153   0.040739   \n",
       "\n",
       "              Open          High           Low         Close     Adj Close  \\\n",
       "0     27305.619141  27387.910156  27246.789063  27364.919922  27364.919922   \n",
       "1     27402.900391  27432.070313  27216.400391  27306.830078  27306.830078   \n",
       "2     27312.349609  27445.240234  27190.550781  27287.660156  27287.660156   \n",
       "3     27466.640625  27555.060547  27421.710938  27470.810547  27470.810547   \n",
       "4     27575.039063  27618.140625  27318.199219  27361.960938  27361.960938   \n",
       "...            ...           ...           ...           ...           ...   \n",
       "1149  35679.738281  35706.550781  34794.929688  34868.980469  34868.980469   \n",
       "1150  34525.390625  35081.609375  34499.781250  34842.101563  34842.101563   \n",
       "1151  35144.781250  35254.878906  34910.339844  35171.269531  35171.269531   \n",
       "1152  34926.949219  35032.359375  34662.058594  34961.519531  34961.519531   \n",
       "1153  35168.300781  35233.910156  34812.800781  34915.800781  34915.800781   \n",
       "\n",
       "       Volume  compound    pos    neg    neu  \n",
       "0      8200.0   -0.9998  0.123  0.179  0.698  \n",
       "1      9200.0   -0.9999  0.115  0.171  0.714  \n",
       "2      9700.0   -0.9997  0.124  0.171  0.705  \n",
       "3      9900.0   -0.9997  0.128  0.169  0.703  \n",
       "4     11300.0   -0.9993  0.131  0.154  0.715  \n",
       "...       ...       ...    ...    ...    ...  \n",
       "1149  26600.0   -0.9997  0.089  0.145  0.765  \n",
       "1150  24600.0   -0.9999  0.077  0.175  0.748  \n",
       "1151  24800.0   -0.9998  0.096  0.163  0.740  \n",
       "1152  18300.0   -0.9998  0.092  0.165  0.742  \n",
       "1153  18500.0   -0.9998  0.077  0.149  0.774  \n",
       "\n",
       "[1150 rows x 19 columns]"
      ]
     },
     "execution_count": 57,
     "metadata": {},
     "output_type": "execute_result"
    }
   ],
   "source": [
    "DataMerge = DataMerge.drop('scores',axis=1)\n",
    "DataMerge"
   ]
  },
  {
   "cell_type": "code",
   "execution_count": 58,
   "metadata": {
    "colab": {
     "base_uri": "https://localhost:8080/",
     "height": 649
    },
    "id": "b1Qy9a_EUlty",
    "outputId": "790ccc1b-5c1a-45a1-b9da-85132ff65b59"
   },
   "outputs": [
    {
     "name": "stderr",
     "output_type": "stream",
     "text": [
      "C:\\Users\\hp\\anaconda3\\lib\\site-packages\\seaborn\\_decorators.py:36: FutureWarning: Pass the following variables as keyword args: x, y. From version 0.12, the only valid positional argument will be `data`, and passing other arguments without an explicit keyword will result in an error or misinterpretation.\n",
      "  warnings.warn(\n"
     ]
    },
    {
     "data": {
      "text/plain": [
       "<AxesSubplot:xlabel='Date', ylabel='Close'>"
      ]
     },
     "execution_count": 58,
     "metadata": {},
     "output_type": "execute_result"
    },
    {
     "data": {
      "image/png": "[encoded data removed]",
      "text/plain": [
       "<Figure size 1440x720 with 1 Axes>"
      ]
     },
     "metadata": {},
     "output_type": "display_data"
    }
   ],
   "source": [
    "plt.figure(figsize=(20,10))\n",
    "sns.lineplot(DataMerge['Date'],DataMerge['Close'])"
   ]
  },
  {
   "cell_type": "code",
   "execution_count": 59,
   "metadata": {
    "colab": {
     "base_uri": "https://localhost:8080/",
     "height": 467
    },
    "id": "qI6RJ3KhUpID",
    "outputId": "3fa3a865-558a-4b41-ea5d-58cbf4273c2b"
   },
   "outputs": [
    {
     "data": {
      "text/html": [
       "<div>\n",
       "<style scoped>\n",
       "    .dataframe tbody tr th:only-of-type {\n",
       "        vertical-align: middle;\n",
       "    }\n",
       "\n",
       "    .dataframe tbody tr th {\n",
       "        vertical-align: top;\n",
       "    }\n",
       "\n",
       "    .dataframe thead th {\n",
       "        text-align: right;\n",
       "    }\n",
       "</style>\n",
       "<table border=\"1\" class=\"dataframe\">\n",
       "  <thead>\n",
       "    <tr style=\"text-align: right;\">\n",
       "      <th></th>\n",
       "      <th>Date</th>\n",
       "      <th>headline_text</th>\n",
       "      <th>word_count</th>\n",
       "      <th>char_count</th>\n",
       "      <th>avg_word</th>\n",
       "      <th>stopwords</th>\n",
       "      <th>numerics</th>\n",
       "      <th>upper</th>\n",
       "      <th>sentiment</th>\n",
       "      <th>Open</th>\n",
       "      <th>High</th>\n",
       "      <th>Low</th>\n",
       "      <th>Close</th>\n",
       "      <th>Adj Close</th>\n",
       "      <th>Volume</th>\n",
       "      <th>compound</th>\n",
       "      <th>pos</th>\n",
       "      <th>neg</th>\n",
       "      <th>neu</th>\n",
       "      <th>Price_Indication</th>\n",
       "    </tr>\n",
       "  </thead>\n",
       "  <tbody>\n",
       "    <tr>\n",
       "      <th>0</th>\n",
       "      <td>2015-10-19</td>\n",
       "      <td>heres calm monday 5 minutes pics 7 super ways ...</td>\n",
       "      <td>5467</td>\n",
       "      <td>34147</td>\n",
       "      <td>5.246204</td>\n",
       "      <td>1118</td>\n",
       "      <td>81</td>\n",
       "      <td>202</td>\n",
       "      <td>0.089433</td>\n",
       "      <td>27305.619141</td>\n",
       "      <td>27387.910156</td>\n",
       "      <td>27246.789063</td>\n",
       "      <td>27364.919922</td>\n",
       "      <td>27364.919922</td>\n",
       "      <td>8200.0</td>\n",
       "      <td>-0.9998</td>\n",
       "      <td>0.123</td>\n",
       "      <td>0.179</td>\n",
       "      <td>0.698</td>\n",
       "      <td>0</td>\n",
       "    </tr>\n",
       "    <tr>\n",
       "      <th>1</th>\n",
       "      <td>2015-10-20</td>\n",
       "      <td>much water drink every day ways identify diffe...</td>\n",
       "      <td>5774</td>\n",
       "      <td>35830</td>\n",
       "      <td>5.205577</td>\n",
       "      <td>1216</td>\n",
       "      <td>75</td>\n",
       "      <td>257</td>\n",
       "      <td>0.045460</td>\n",
       "      <td>27402.900391</td>\n",
       "      <td>27432.070313</td>\n",
       "      <td>27216.400391</td>\n",
       "      <td>27306.830078</td>\n",
       "      <td>27306.830078</td>\n",
       "      <td>9200.0</td>\n",
       "      <td>-0.9999</td>\n",
       "      <td>0.115</td>\n",
       "      <td>0.171</td>\n",
       "      <td>0.714</td>\n",
       "      <td>0</td>\n",
       "    </tr>\n",
       "    <tr>\n",
       "      <th>2</th>\n",
       "      <td>2015-10-21</td>\n",
       "      <td>find pleasure spots pak singers faced criticis...</td>\n",
       "      <td>5672</td>\n",
       "      <td>34863</td>\n",
       "      <td>5.146685</td>\n",
       "      <td>1216</td>\n",
       "      <td>86</td>\n",
       "      <td>247</td>\n",
       "      <td>0.087048</td>\n",
       "      <td>27312.349609</td>\n",
       "      <td>27445.240234</td>\n",
       "      <td>27190.550781</td>\n",
       "      <td>27287.660156</td>\n",
       "      <td>27287.660156</td>\n",
       "      <td>9700.0</td>\n",
       "      <td>-0.9997</td>\n",
       "      <td>0.124</td>\n",
       "      <td>0.171</td>\n",
       "      <td>0.705</td>\n",
       "      <td>1</td>\n",
       "    </tr>\n",
       "    <tr>\n",
       "      <th>3</th>\n",
       "      <td>2015-10-23</td>\n",
       "      <td>beat bloating feeling 10 alternate treatments ...</td>\n",
       "      <td>5732</td>\n",
       "      <td>35645</td>\n",
       "      <td>5.218772</td>\n",
       "      <td>1196</td>\n",
       "      <td>94</td>\n",
       "      <td>228</td>\n",
       "      <td>0.053181</td>\n",
       "      <td>27466.640625</td>\n",
       "      <td>27555.060547</td>\n",
       "      <td>27421.710938</td>\n",
       "      <td>27470.810547</td>\n",
       "      <td>27470.810547</td>\n",
       "      <td>9900.0</td>\n",
       "      <td>-0.9997</td>\n",
       "      <td>0.128</td>\n",
       "      <td>0.169</td>\n",
       "      <td>0.703</td>\n",
       "      <td>0</td>\n",
       "    </tr>\n",
       "    <tr>\n",
       "      <th>4</th>\n",
       "      <td>2015-10-26</td>\n",
       "      <td>7 worst sexual fears men dos donts diabetics n...</td>\n",
       "      <td>5575</td>\n",
       "      <td>34314</td>\n",
       "      <td>5.155157</td>\n",
       "      <td>1160</td>\n",
       "      <td>79</td>\n",
       "      <td>246</td>\n",
       "      <td>0.096162</td>\n",
       "      <td>27575.039063</td>\n",
       "      <td>27618.140625</td>\n",
       "      <td>27318.199219</td>\n",
       "      <td>27361.960938</td>\n",
       "      <td>27361.960938</td>\n",
       "      <td>11300.0</td>\n",
       "      <td>-0.9993</td>\n",
       "      <td>0.131</td>\n",
       "      <td>0.154</td>\n",
       "      <td>0.715</td>\n",
       "      <td>0</td>\n",
       "    </tr>\n",
       "  </tbody>\n",
       "</table>\n",
       "</div>"
      ],
      "text/plain": [
       "        Date                                      headline_text  word_count  \\\n",
       "0 2015-10-19  heres calm monday 5 minutes pics 7 super ways ...        5467   \n",
       "1 2015-10-20  much water drink every day ways identify diffe...        5774   \n",
       "2 2015-10-21  find pleasure spots pak singers faced criticis...        5672   \n",
       "3 2015-10-23  beat bloating feeling 10 alternate treatments ...        5732   \n",
       "4 2015-10-26  7 worst sexual fears men dos donts diabetics n...        5575   \n",
       "\n",
       "   char_count  avg_word  stopwords  numerics  upper  sentiment          Open  \\\n",
       "0       34147  5.246204       1118        81    202   0.089433  27305.619141   \n",
       "1       35830  5.205577       1216        75    257   0.045460  27402.900391   \n",
       "2       34863  5.146685       1216        86    247   0.087048  27312.349609   \n",
       "3       35645  5.218772       1196        94    228   0.053181  27466.640625   \n",
       "4       34314  5.155157       1160        79    246   0.096162  27575.039063   \n",
       "\n",
       "           High           Low         Close     Adj Close   Volume  compound  \\\n",
       "0  27387.910156  27246.789063  27364.919922  27364.919922   8200.0   -0.9998   \n",
       "1  27432.070313  27216.400391  27306.830078  27306.830078   9200.0   -0.9999   \n",
       "2  27445.240234  27190.550781  27287.660156  27287.660156   9700.0   -0.9997   \n",
       "3  27555.060547  27421.710938  27470.810547  27470.810547   9900.0   -0.9997   \n",
       "4  27618.140625  27318.199219  27361.960938  27361.960938  11300.0   -0.9993   \n",
       "\n",
       "     pos    neg    neu  Price_Indication  \n",
       "0  0.123  0.179  0.698                 0  \n",
       "1  0.115  0.171  0.714                 0  \n",
       "2  0.124  0.171  0.705                 1  \n",
       "3  0.128  0.169  0.703                 0  \n",
       "4  0.131  0.154  0.715                 0  "
      ]
     },
     "execution_count": 59,
     "metadata": {},
     "output_type": "execute_result"
    }
   ],
   "source": [
    "DataMerge['Price_Indication'] = np.where(DataMerge['Close'].shift(-1)>DataMerge['Close'],1,0)\n",
    "DataMerge.head()"
   ]
  },
  {
   "cell_type": "code",
   "execution_count": 60,
   "metadata": {
    "colab": {
     "base_uri": "https://localhost:8080/"
    },
    "id": "j2D_e_EAUu5l",
    "outputId": "29540bdf-7327-4b08-c3bb-1bc8bec0c522"
   },
   "outputs": [
    {
     "data": {
      "text/plain": [
       "Index(['Date', 'headline_text', 'word_count', 'char_count', 'avg_word',\n",
       "       'stopwords', 'numerics', 'upper', 'sentiment', 'Open', 'High', 'Low',\n",
       "       'Close', 'Adj Close', 'Volume', 'compound', 'pos', 'neg', 'neu',\n",
       "       'Price_Indication'],\n",
       "      dtype='object')"
      ]
     },
     "execution_count": 60,
     "metadata": {},
     "output_type": "execute_result"
    }
   ],
   "source": [
    "DataMerge.columns"
   ]
  },
  {
   "cell_type": "code",
   "execution_count": 61,
   "metadata": {
    "id": "xTbzA17ZUyjJ"
   },
   "outputs": [],
   "source": [
    "X = DataMerge[['sentiment','Open','High','Low','Close','Adj Close','compound','pos','neg','neu']]\n",
    "y = DataMerge['Price_Indication']"
   ]
  },
  {
   "cell_type": "code",
   "execution_count": 62,
   "metadata": {
    "id": "Vx79GN8lU01t"
   },
   "outputs": [],
   "source": [
    "X_train,X_test,y_train,y_test=train_test_split(X,y,test_size=0.2,random_state=0)"
   ]
  },
  {
   "cell_type": "code",
   "execution_count": 63,
   "metadata": {
    "colab": {
     "base_uri": "https://localhost:8080/"
    },
    "id": "9tR30Lk9U2B4",
    "outputId": "8952abe2-d7bf-4fe6-e93a-f4452e11c22b"
   },
   "outputs": [
    {
     "name": "stdout",
     "output_type": "stream",
     "text": [
      "(920, 10)\n",
      "(230, 10)\n"
     ]
    }
   ],
   "source": [
    "print(X_train.shape)\n",
    "print(X_test.shape)"
   ]
  },
  {
   "cell_type": "code",
   "execution_count": 64,
   "metadata": {
    "colab": {
     "base_uri": "https://localhost:8080/"
    },
    "id": "qHWGOTiVU4n1",
    "outputId": "96d8a8a1-6f7f-4739-9063-376900d9eac0"
   },
   "outputs": [
    {
     "data": {
      "text/plain": [
       "GridSearchCV(cv=5, estimator=RandomForestClassifier(),\n",
       "             param_grid=[{'max_depth': [10, 20], 'max_features': ['sqrt', 0.2],\n",
       "                          'n_estimators': [10, 20]}],\n",
       "             scoring='roc_auc')"
      ]
     },
     "execution_count": 64,
     "metadata": {},
     "output_type": "execute_result"
    }
   ],
   "source": [
    "tuned_parameters = [{'max_depth':[10,20],\n",
    "                    'n_estimators':[10,20],\n",
    "                    'max_features':['sqrt',0.2]}]\n",
    "random_clf = RandomForestClassifier()\n",
    "clf = GridSearchCV(random_clf, tuned_parameters, cv = 5, scoring = 'roc_auc')\n",
    "clf.fit(X_train,y_train)"
   ]
  },
  {
   "cell_type": "code",
   "execution_count": 65,
   "metadata": {
    "colab": {
     "base_uri": "https://localhost:8080/"
    },
    "id": "PIJV4XQFU8i8",
    "outputId": "0881cdf5-79cb-4ee7-d7d7-dfd21ec527e9"
   },
   "outputs": [
    {
     "data": {
      "text/plain": [
       "0.47462380018956135"
      ]
     },
     "execution_count": 65,
     "metadata": {},
     "output_type": "execute_result"
    }
   ],
   "source": [
    "clf.best_score_"
   ]
  },
  {
   "cell_type": "code",
   "execution_count": 66,
   "metadata": {
    "colab": {
     "base_uri": "https://localhost:8080/"
    },
    "id": "hD60a_rTU_NV",
    "outputId": "4783b950-012d-4575-b7a9-cddf73748524"
   },
   "outputs": [
    {
     "data": {
      "text/plain": [
       "{'max_depth': 20, 'max_features': 0.2, 'n_estimators': 20}"
      ]
     },
     "execution_count": 66,
     "metadata": {},
     "output_type": "execute_result"
    }
   ],
   "source": [
    "clf.best_params_"
   ]
  },
  {
   "cell_type": "code",
   "execution_count": 67,
   "metadata": {
    "colab": {
     "base_uri": "https://localhost:8080/"
    },
    "id": "OaTJuEn8VDuW",
    "outputId": "9db7bb80-0d22-4671-ab84-8e94d4f5be44"
   },
   "outputs": [
    {
     "data": {
      "text/plain": [
       "RandomForestClassifier(max_features='sqrt', n_estimators=10)"
      ]
     },
     "execution_count": 67,
     "metadata": {},
     "output_type": "execute_result"
    }
   ],
   "source": [
    "randomClassifier = RandomForestClassifier(n_estimators = 10, max_features = 'sqrt')\n",
    "randomClassifier.fit(X_train,y_train)"
   ]
  },
  {
   "cell_type": "code",
   "execution_count": 68,
   "metadata": {
    "colab": {
     "base_uri": "https://localhost:8080/"
    },
    "id": "rx_8TakUVGtj",
    "outputId": "42cb71a9-52d6-4dd1-a2ee-288a34b878cb"
   },
   "outputs": [
    {
     "name": "stdout",
     "output_type": "stream",
     "text": [
      "              precision    recall  f1-score   support\n",
      "\n",
      "           0       0.53      0.56      0.54       117\n",
      "           1       0.52      0.50      0.51       113\n",
      "\n",
      "    accuracy                           0.53       230\n",
      "   macro avg       0.53      0.53      0.53       230\n",
      "weighted avg       0.53      0.53      0.53       230\n",
      "\n"
     ]
    }
   ],
   "source": [
    "y_pred = randomClassifier.predict(X_test)\n",
    "print(metrics.classification_report(y_test,y_pred))"
   ]
  },
  {
   "cell_type": "code",
   "execution_count": 69,
   "metadata": {
    "colab": {
     "base_uri": "https://localhost:8080/"
    },
    "id": "qD13GMMiVHqf",
    "outputId": "cf57d696-c7f5-4ee6-ba7e-14dd8e84a57b"
   },
   "outputs": [
    {
     "name": "stdout",
     "output_type": "stream",
     "text": [
      "Mean Absolute Error: 0.47391304347826085\n",
      "Mean Squared Error: 0.47391304347826085\n",
      "Root Mean Squared Error: 0.6884134248242555\n"
     ]
    }
   ],
   "source": [
    "print('Mean Absolute Error:',metrics.mean_absolute_error(y_test,y_pred))\n",
    "print('Mean Squared Error:',metrics.mean_squared_error(y_test,y_pred))\n",
    "print('Root Mean Squared Error:',np.sqrt(metrics.mean_squared_error(y_test,y_pred)))"
   ]
  }
 ],
 "metadata": {
  "colab": {
   "name": "StockMarketAnalysis.ipynb",
   "provenance": []
  },
  "kernelspec": {
   "display_name": "Python 3 (ipykernel)",
   "language": "python",
   "name": "python3"
  },
  "language_info": {
   "codemirror_mode": {
    "name": "ipython",
    "version": 3
   },
   "file_extension": ".py",
   "mimetype": "text/x-python",
   "name": "python",
   "nbconvert_exporter": "python",
   "pygments_lexer": "ipython3",
   "version": "3.9.7"
  }
 },
 "nbformat": 4,
 "nbformat_minor": 1
}
